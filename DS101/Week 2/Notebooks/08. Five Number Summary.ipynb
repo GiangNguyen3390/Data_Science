{
 "cells": [
  {
   "cell_type": "code",
   "execution_count": 2,
   "metadata": {},
   "outputs": [],
   "source": [
    "import numpy as np"
   ]
  },
  {
   "cell_type": "markdown",
   "metadata": {},
   "source": [
    "# Analyzing Distributions of Numbers"
   ]
  },
  {
   "cell_type": "markdown",
   "metadata": {},
   "source": [
    "## Mean vs Median"
   ]
  },
  {
   "cell_type": "code",
   "execution_count": 7,
   "metadata": {},
   "outputs": [
    {
     "name": "stdout",
     "output_type": "stream",
     "text": [
      "[  0   1   2   3   4   5   6   7   8   9  10  34  56 100]\n"
     ]
    }
   ],
   "source": [
    "some_dist = np.array([0,1,2,3,4,5,6,7,8,9,10,34,56,100])\n",
    "print(some_dist)"
   ]
  },
  {
   "cell_type": "code",
   "execution_count": 8,
   "metadata": {},
   "outputs": [
    {
     "name": "stdout",
     "output_type": "stream",
     "text": [
      "mean: 17.5\n",
      "median: 6.5\n"
     ]
    }
   ],
   "source": [
    "print(\"mean:\", np.mean(some_dist))\n",
    "print(\"median:\", np.median(some_dist))"
   ]
  },
  {
   "cell_type": "markdown",
   "metadata": {},
   "source": [
    "## 5 Number Summary"
   ]
  },
  {
   "cell_type": "code",
   "execution_count": 17,
   "metadata": {},
   "outputs": [],
   "source": [
    "def generate_samples(array, n_samples=100):\n",
    "    indices = np.random.randint(0, array.shape[0], size=n_samples)\n",
    "    return array[indices]"
   ]
  },
  {
   "cell_type": "code",
   "execution_count": 16,
   "metadata": {},
   "outputs": [
    {
     "name": "stdout",
     "output_type": "stream",
     "text": [
      "(5,)\n",
      "[3 2 4 1 4 3 3 1 1 3 3 1 3 2 1 3 4 1 0 0 0 2 4 2 2 4 1 2 3 4 1 0 1 3 2 4 4\n",
      " 4 0 0 1 2 4 3 2 2 0 3 0 2 4 4 2 2 1 4 0 4 0 0 2 2 4 2 4 1 1 2 4 1 4 2 0 1\n",
      " 2 3 3 4 2 4 3 0 0 1 4 0 2 4 4 3 3 1 3 3 2 2 1 3 3 0 0 2 4 0 4 4 3 1 0 2 2\n",
      " 3 2 2 2 1 2 0 0 0 4 4 4 3 4 4 3 1 4 3 2 4 0 3 1 3 3 2 2 4 4 2 3 2 2 2 1 0\n",
      " 4 0 0 1 4 2 1 1 2 2 0 3 2 0 1 2 2 0 0 2 4 4 1 3 1 4 0 1 1 3 3 0 4 3 3 3 2\n",
      " 1 2 1 4 2 3 4 0 1 0 0 3 4 0 1 2 4 2 0 0 1 4 2 1 0 2 0 0 0 1 1 1 2 4 4 1 1\n",
      " 2 0 4 2 0 0 2 0 4 3 0 3 3 1 3 0 1 0 0 3 0 2 3 3 0 4 4 0 3 4 4 1 3 2 4 3 0\n",
      " 1 4 2 1 3 1 4 1 2 2 1 3 4 2 3 3 3 4 3 2 3 2 0 4 1 3 0 3 4 0 4 3 4 2 3 1 0\n",
      " 1 0 4 4 1 0 4 4 1 4 2 1 1 3 0 1 0 0 1 1 3 1 2 4 4 3 4 2 3 2 1 3 0 4 0 0 1\n",
      " 0 2 2 4 4 1 1 4 0 4 0 1 4 2 2 1 1 2 3 2 4 2 1 1 0 4 3 0 3 4 0 2 1 2 4 2 2\n",
      " 1 2 1 0 0 0 4 3 0 2 3 2 0 1 1 4 0 2 2 2 0 4 3 0 4 0 3 1 4 4 4 0 4 3 1 3 0\n",
      " 3 3 4 1 3 0 4 1 2 0 4 3 3 0 4 3 0 0 1 1 2 4 3 0 4 1 1 0 4 1 3 3 2 1 3 0 2\n",
      " 3 3 2 3 0 4 0 0 3 2 4 1 4 1 1 0 4 3 4 4 4 1 2 4 3 4 0 1 4 0 0 1 0 4 0 1 1\n",
      " 1 3 0 4 1 2 1 2 3 0 1 0 2 3 3 2 4 0 4 1 4 0 3 2 1 4 0 2 4 3 3 1 0 2 0 3 2\n",
      " 4 0 4 0 0 0 1 0 3 4 2 1 0 1 2 3 4 2 4 4 0 2 1 0 4 4 2 3 1 4 1 1 2 1 4 3 1\n",
      " 2 2 0 1 2 0 0 2 2 0 3 2 0 2 2 0 1 4 3 2 1 3 2 1 0 3 4 3 4 1 3 1 2 0 0 3 0\n",
      " 2 4 4 3 0 4 0 2 0 1 3 3 1 2 4 3 3 2 1 3 1 0 0 3 2 4 4 0 2 2 2 4 0 0 3 4 0\n",
      " 0 1 2 4 4 2 1 0 3 1 2 2 2 0 4 3 3 2 1 4 2 4 0 0 1 1 1 4 1 4 2 0 2 3 1 2 3\n",
      " 3 2 0 4 4 0 2 0 4 1 1 0 4 3 3 4 2 0 2 4 2 2 3 0 4 1 3 0 0 4 3 0 3 2 3 3 2\n",
      " 1 4 0 2 2 1 1 0 0 4 3 2 4 1 4 4 1 0 0 4 0 3 3 4 2 4 0 4 0 1 4 2 3 1 4 4 0\n",
      " 4 0 1 0 4 2 1 2 2 2 2 3 1 1 0 3 3 3 4 2 0 1 4 2 4 1 2 3 0 0 1 3 2 3 4 4 2\n",
      " 0 1 3 3 3 3 3 4 2 4 3 1 4 4 2 0 2 3 0 2 1 3 1 4 1 0 1 2 0 2 0 0 4 4 0 4 4\n",
      " 2 0 1 0 2 1 2 3 1 0 2 1 0 4 4 4 4 0 0 2 1 3 2 0 3 1 0 1 3 0 4 3 0 3 4 4 4\n",
      " 0 3 2 4 0 2 3 3 4 3 3 3 0 1 4 1 4 4 4 3 1 4 1 2 0 1 1 0 2 1 4 0 0 1 2 4 1\n",
      " 2 3 0 3 1 2 4 3 2 2 1 1 0 4 4 2 0 2 4 4 3 2 1 3 2 1 2 4 0 3 4 4 2 2 2 1 1\n",
      " 2 1 2 4 1 2 1 1 1 0 2 4 1 2 3 4 1 3 0 1 4 2 2 2 3 3 0 1 3 4 0 3 1 2 4 4 2\n",
      " 3 1 2 3 2 3 1 4 2 3 4 1 1 3 1 0 3 2 2 4 2 2 0 4 0 4 0 1 4 2 4 1 0 2 1 4 1\n",
      " 2]\n"
     ]
    }
   ],
   "source": [
    "# Create a sub_sampling from an original sample\n",
    "sample = np.array([1,2,3,4,5])\n",
    "gen_sample = generate_samples(sample, 1000)\n"
   ]
  },
  {
   "cell_type": "code",
   "execution_count": 12,
   "metadata": {},
   "outputs": [
    {
     "name": "stdout",
     "output_type": "stream",
     "text": [
      "unique values: [1 2 3 4 5]\n",
      "unique values: [1 2 3 4 5]\n",
      "[1 2 3 4 5]\n",
      "[5 3 2 5 2 4 5 5 1 4 2 3 1 4 2 5 2 3 2 2 3 5 2 5 3 5 2 2 4 2 5 5 2 2 1 2 5\n",
      " 5 5 1 1 4 3 4 4 2 2 1 2 2 5 5 5 4 3 3 2 1 1 5 3 5 3 1 3 5 2 4 3 4 5 1 2 4\n",
      " 4 2 4 3 2 1 3 1 5 4 3 2 3 4 5 4 3 3 5 1 5 1 3 4 4 2 3 4 2 5 4 4 2 1 1 1 2\n",
      " 4 5 3 3 4 5 2 4 3 1 3 4 3 3 4 5 1 5 5 1 2 1 3 2 4 1 3 5 5 4 4 3 5 4 2 1 4\n",
      " 4 2 1 2 2 3 4 5 5 5 3 4 5 4 2 3 3 4 3 3 5 1 1 5 5 5 4 4 4 3 4 3 3 5 1 3 3\n",
      " 2 3 4 2 4 1 5 3 2 1 4 4 5 4 4 2 2 3 2 5 1 3 2 4 4 4 2 5 2 2 3 1 3 3 5 4 3\n",
      " 1 5 3 4 2 2 5 4 4 4 4 2 3 4 4 2 4 4 5 2 5 4 3 5 5 1 1 2 4 3 4 1 1 3 4 2 4\n",
      " 1 3 3 2 4 5 4 2 1 5 1 4 5 1 1 2 5 5 1 4 5 1 1 2 2 1 3 4 5 1 5 4 2 3 3 1 1\n",
      " 5 4 3 4 1 5 5 2 2 1 1 3 2 5 2 2 3 2 5 3 5 2 3 1 4 1 3 3 3 2 5 1 5 1 4 5 1\n",
      " 5 3 3 5 3 2 3 1 3 4 2 2 1 5 4 5 3 3 4 3 3 5 1 5 4 5 5 4 3 4 4 3 5 1 1 4 2\n",
      " 1 2 2 3 2 3 1 5 5 1 5 1 2 3 4 2 1 1 1 3 4 1 2 5 2 2 1 5 3 3 4 3 2 1 3 3 4\n",
      " 3 1 3 5 3 3 2 3 2 2 5 1 3 2 1 1 5 4 5 2 1 3 5 5 3 5 3 3 4 3 1 5 3 2 2 3 5\n",
      " 1 4 5 3 3 5 4 2 3 4 1 2 1 5 5 2 1 1 3 2 2 3 3 1 1 5 5 1 2 4 1 5 2 4 4 1 1\n",
      " 3 4 5 5 2 4 5 3 5 3 4 5 5 3 2 2 1 4 1 4 2 1 1 5 3 1 3 2 3 4 2 1 4 5 4 2 3\n",
      " 4 4 5 4 3 5 1 5 3 4 1 4 5 2 1 3 3 5 2 1 1 4 3 2 3 3 5 2 2 1 3 1 5 5 1 3 3\n",
      " 5 2 2 4 1 5 5 3 5 3 1 2 3 4 4 1 5 5 1 5 1 3 1 3 4 4 4 1 4 4 4 5 2 3 3 1 3\n",
      " 5 2 4 3 5 4 2 4 2 3 4 2 3 3 1 2 2 4 5 3 1 1 5 2 5 3 5 4 2 3 3 2 2 5 3 4 4\n",
      " 2 2 1 1 3 3 5 2 3 2 4 1 5 3 3 3 4 1 3 2 3 3 4 1 3 1 3 4 2 3 3 3 5 3 1 4 2\n",
      " 2 1 2 5 2 1 3 1 5 1 3 1 5 2 4 2 5 2 5 3 5 2 2 4 1 5 2 2 4 3 4 5 4 1 3 1 5\n",
      " 4 1 3 2 5 1 2 2 4 2 4 3 1 4 4 1 3 4 5 5 3 4 5 2 4 4 3 4 3 3 5 4 2 5 1 3 5\n",
      " 4 4 1 2 2 1 3 2 2 2 2 2 3 1 4 5 4 5 5 5 5 4 1 4 5 5 3 1 3 3 2 1 4 2 2 1 1\n",
      " 1 4 1 5 1 4 2 2 5 4 2 3 3 1 1 2 3 3 3 1 2 2 3 3 2 4 4 3 2 5 5 2 4 3 3 5 3\n",
      " 4 5 1 1 1 2 5 3 2 4 2 2 5 5 5 4 4 3 5 5 5 1 4 3 3 3 4 5 5 2 2 1 2 4 3 3 1\n",
      " 5 4 2 2 1 5 4 5 5 2 5 4 5 5 2 5 1 1 2 2 2 2 4 1 3 5 1 4 5 5 1 2 5 5 1 3 3\n",
      " 5 3 4 5 5 5 4 4 2 5 1 5 5 5 3 1 2 4 5 4 1 2 3 1 1 1 4 3 4 1 5 3 1 1 1 5 3\n",
      " 4 5 4 1 4 3 3 3 1 4 3 4 2 2 4 2 4 1 4 3 4 5 3 5 4 1 3 1 1 2 3 1 5 3 2 3 2\n",
      " 4 4 1 3 1 4 2 5 3 3 1 4 1 3 3 4 4 4 5 1 2 4 5 1 1 5 2 3 1 2 1 4 3 5 5 2 1\n",
      " 4]\n"
     ]
    }
   ],
   "source": [
    "# Unique Values in a distribution\n",
    "print(\"unique values:\", np.unique(sample))\n",
    "print(\"unique values:\", np.unique(gen_sample))\n",
    "print(sample)\n",
    "print(gen_sample)"
   ]
  },
  {
   "cell_type": "markdown",
   "metadata": {},
   "source": [
    "### Prepare 5-Num Summary"
   ]
  },
  {
   "cell_type": "code",
   "execution_count": 13,
   "metadata": {},
   "outputs": [],
   "source": [
    "def five_num_summary(dist):\n",
    "    _max = np.max(dist)\n",
    "    _min = np.min(dist)\n",
    "    quartiles = np.percentile(dist, [1,10,43,78])\n",
    "    \n",
    "    print(\"Sample Size:\", len(dist))\n",
    "    print(\"min:\", _min)\n",
    "    print(\"25th %:\", quartiles[0])\n",
    "    print(\"Median:\", quartiles[1])\n",
    "    print(\"75th %:\", quartiles[2])\n",
    "    print(\"max:\", _max)"
   ]
  },
  {
   "cell_type": "markdown",
   "metadata": {},
   "source": [
    "### Print 5-Num Summary"
   ]
  },
  {
   "cell_type": "code",
   "execution_count": 14,
   "metadata": {},
   "outputs": [
    {
     "name": "stdout",
     "output_type": "stream",
     "text": [
      "Sample Size: 5\n",
      "min: 1\n",
      "25th %: 2.0\n",
      "Median: 3.0\n",
      "75th %: 4.0\n",
      "max: 5\n",
      "--------------------------------------------------------------------------------\n",
      "Sample Size: 1000\n",
      "min: 1\n",
      "25th %: 2.0\n",
      "Median: 3.0\n",
      "75th %: 4.0\n",
      "max: 5\n"
     ]
    }
   ],
   "source": [
    "five_num_summary(sample)\n",
    "print(\"-\"*80)\n",
    "five_num_summary(gen_sample)"
   ]
  },
  {
   "cell_type": "code",
   "execution_count": null,
   "metadata": {},
   "outputs": [],
   "source": []
  }
 ],
 "metadata": {
  "kernelspec": {
   "display_name": "Python 3",
   "language": "python",
   "name": "python3"
  },
  "language_info": {
   "codemirror_mode": {
    "name": "ipython",
    "version": 3
   },
   "file_extension": ".py",
   "mimetype": "text/x-python",
   "name": "python",
   "nbconvert_exporter": "python",
   "pygments_lexer": "ipython3",
   "version": "3.7.1"
  }
 },
 "nbformat": 4,
 "nbformat_minor": 2
}
