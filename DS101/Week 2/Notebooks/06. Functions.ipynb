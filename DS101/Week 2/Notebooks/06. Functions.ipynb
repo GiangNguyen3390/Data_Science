{
 "cells": [
  {
   "cell_type": "markdown",
   "metadata": {},
   "source": [
    "# [Functions](https://www.learnpython.org/en/Functions)"
   ]
  },
  {
   "cell_type": "markdown",
   "metadata": {},
   "source": [
    "<br>"
   ]
  },
  {
   "cell_type": "code",
   "execution_count": 3,
   "metadata": {},
   "outputs": [],
   "source": [
    "import numpy as np"
   ]
  },
  {
   "cell_type": "code",
   "execution_count": 4,
   "metadata": {},
   "outputs": [],
   "source": [
    "def fahr_to_celsius(temp):\n",
    "    return round(((temp - 32) * (5/9)), 2)"
   ]
  },
  {
   "cell_type": "code",
   "execution_count": 5,
   "metadata": {
    "scrolled": true
   },
   "outputs": [
    {
     "name": "stdout",
     "output_type": "stream",
     "text": [
      "Temperature Converter!\n",
      "----------------------\n",
      "F:96.4\t\tC:35.78\n",
      "F:91.72\t\tC:33.18\n",
      "F:91.24\t\tC:32.91\n",
      "F:93.91\t\tC:34.39\n",
      "F:57.44\t\tC:14.13\n",
      "F:66.99\t\tC:19.44\n",
      "F:71.71\t\tC:22.06\n",
      "F:70.2\t\tC:21.22\n",
      "F:60.17\t\tC:15.65\n",
      "F:62.07\t\tC:16.71\n",
      "F:60.67\t\tC:15.93\n",
      "F:56.91\t\tC:13.84\n",
      "F:89.2\t\tC:31.78\n",
      "F:75.78\t\tC:24.32\n",
      "F:86.64\t\tC:30.36\n",
      "F:60.66\t\tC:15.92\n",
      "F:95.52\t\tC:35.29\n",
      "F:55.03\t\tC:12.79\n",
      "F:72.39\t\tC:22.44\n",
      "F:63.87\t\tC:17.71\n",
      "F:68.79\t\tC:20.44\n",
      "F:93.43\t\tC:34.13\n",
      "F:61.33\t\tC:16.29\n",
      "F:67.95\t\tC:19.97\n",
      "F:62.59\t\tC:16.99\n",
      "F:79.05\t\tC:26.14\n",
      "F:96.21\t\tC:35.67\n",
      "F:86.8\t\tC:30.44\n",
      "F:98.6\t\tC:37.0\n",
      "F:86.33\t\tC:30.18\n",
      "F:68.96\t\tC:20.53\n",
      "F:90.15\t\tC:32.31\n",
      "F:91.19\t\tC:32.88\n",
      "F:63.81\t\tC:17.67\n",
      "F:72.12\t\tC:22.29\n",
      "F:63.07\t\tC:17.26\n",
      "F:62.64\t\tC:17.02\n",
      "F:64.39\t\tC:17.99\n",
      "F:67.24\t\tC:19.58\n",
      "F:59.06\t\tC:15.03\n",
      "F:78.93\t\tC:26.07\n",
      "F:69.86\t\tC:21.03\n",
      "F:67.06\t\tC:19.48\n",
      "F:78.44\t\tC:25.8\n",
      "F:74.29\t\tC:23.49\n",
      "F:98.95\t\tC:37.19\n",
      "F:73.87\t\tC:23.26\n",
      "F:82.94\t\tC:28.3\n",
      "F:91.06\t\tC:32.81\n",
      "F:69.21\t\tC:20.67\n",
      "F:74.45\t\tC:23.58\n",
      "F:85.32\t\tC:29.62\n",
      "F:82.01\t\tC:27.78\n",
      "F:91.82\t\tC:33.23\n",
      "F:73.52\t\tC:23.07\n",
      "F:60.6\t\tC:15.89\n",
      "F:91.75\t\tC:33.19\n",
      "F:55.93\t\tC:13.29\n",
      "F:68.53\t\tC:20.29\n",
      "F:63.57\t\tC:17.54\n",
      "F:77.21\t\tC:25.12\n",
      "F:70.01\t\tC:21.12\n",
      "F:77.61\t\tC:25.34\n",
      "F:94.89\t\tC:34.94\n",
      "F:93.35\t\tC:34.08\n",
      "F:84.04\t\tC:28.91\n",
      "F:63.1\t\tC:17.28\n",
      "F:86.45\t\tC:30.25\n",
      "F:96.49\t\tC:35.83\n",
      "F:65.65\t\tC:18.69\n",
      "F:86.4\t\tC:30.22\n",
      "F:87.5\t\tC:30.83\n",
      "F:64.2\t\tC:17.89\n",
      "F:90.29\t\tC:32.38\n",
      "F:76.79\t\tC:24.88\n",
      "F:82.47\t\tC:28.04\n",
      "F:66.83\t\tC:19.35\n",
      "F:84.3\t\tC:29.06\n",
      "F:98.56\t\tC:36.98\n",
      "F:96.67\t\tC:35.93\n",
      "F:78.6\t\tC:25.89\n",
      "F:85.0\t\tC:29.44\n",
      "F:87.17\t\tC:30.65\n",
      "F:79.21\t\tC:26.23\n",
      "F:90.56\t\tC:32.53\n",
      "F:59.14\t\tC:15.08\n",
      "F:85.29\t\tC:29.61\n",
      "F:64.56\t\tC:18.09\n",
      "F:95.87\t\tC:35.48\n",
      "F:96.8\t\tC:36.0\n",
      "F:66.43\t\tC:19.13\n",
      "F:72.21\t\tC:22.34\n",
      "F:70.27\t\tC:21.26\n",
      "F:74.21\t\tC:23.45\n",
      "F:67.83\t\tC:19.91\n",
      "F:89.38\t\tC:31.88\n",
      "F:84.64\t\tC:29.24\n",
      "F:83.08\t\tC:28.38\n",
      "F:58.31\t\tC:14.62\n",
      "F:96.09\t\tC:35.61\n",
      "F:64.15\t\tC:17.86\n",
      "F:68.75\t\tC:20.42\n",
      "F:66.03\t\tC:18.91\n",
      "F:72.18\t\tC:22.32\n",
      "F:92.78\t\tC:33.77\n",
      "F:81.49\t\tC:27.49\n",
      "F:81.6\t\tC:27.56\n",
      "F:73.98\t\tC:23.32\n",
      "F:76.27\t\tC:24.59\n",
      "F:60.35\t\tC:15.75\n",
      "F:93.54\t\tC:34.19\n",
      "F:87.44\t\tC:30.8\n",
      "F:65.78\t\tC:18.77\n",
      "F:73.78\t\tC:23.21\n",
      "F:78.94\t\tC:26.08\n",
      "F:95.31\t\tC:35.17\n",
      "F:90.82\t\tC:32.68\n",
      "F:96.18\t\tC:35.66\n",
      "F:97.52\t\tC:36.4\n",
      "F:60.18\t\tC:15.66\n",
      "F:98.42\t\tC:36.9\n",
      "F:89.33\t\tC:31.85\n",
      "F:55.91\t\tC:13.28\n",
      "F:76.88\t\tC:24.93\n",
      "F:91.15\t\tC:32.86\n",
      "F:72.13\t\tC:22.29\n",
      "F:56.84\t\tC:13.8\n",
      "F:95.69\t\tC:35.38\n",
      "F:87.29\t\tC:30.72\n",
      "F:86.07\t\tC:30.04\n",
      "F:76.28\t\tC:24.6\n",
      "F:57.29\t\tC:14.05\n",
      "F:62.7\t\tC:17.06\n",
      "F:68.9\t\tC:20.5\n",
      "F:82.54\t\tC:28.08\n",
      "F:98.4\t\tC:36.89\n",
      "F:96.18\t\tC:35.66\n",
      "F:69.19\t\tC:20.66\n",
      "F:88.32\t\tC:31.29\n",
      "F:93.62\t\tC:34.23\n",
      "F:81.02\t\tC:27.23\n",
      "F:90.68\t\tC:32.6\n",
      "F:70.9\t\tC:21.61\n",
      "F:90.04\t\tC:32.24\n",
      "F:67.92\t\tC:19.96\n",
      "F:64.19\t\tC:17.88\n",
      "F:58.58\t\tC:14.77\n",
      "F:61.8\t\tC:16.56\n",
      "F:61.8\t\tC:16.56\n",
      "F:67.4\t\tC:19.67\n",
      "F:59.28\t\tC:15.16\n",
      "F:73.46\t\tC:23.03\n",
      "F:78.81\t\tC:26.01\n",
      "F:72.88\t\tC:22.71\n",
      "F:68.1\t\tC:20.06\n",
      "F:85.87\t\tC:29.93\n",
      "F:65.83\t\tC:18.79\n",
      "F:74.15\t\tC:23.42\n",
      "F:63.61\t\tC:17.56\n",
      "F:57.92\t\tC:14.4\n",
      "F:80.38\t\tC:26.88\n",
      "F:72.11\t\tC:22.28\n",
      "F:76.08\t\tC:24.49\n",
      "F:89.38\t\tC:31.88\n",
      "F:91.7\t\tC:33.17\n",
      "F:77.81\t\tC:25.45\n",
      "F:86.57\t\tC:30.32\n",
      "F:61.12\t\tC:16.18\n",
      "F:63.58\t\tC:17.54\n",
      "F:73.09\t\tC:22.83\n",
      "F:98.29\t\tC:36.83\n",
      "F:87.36\t\tC:30.76\n",
      "F:93.68\t\tC:34.27\n",
      "F:87.33\t\tC:30.74\n",
      "F:71.38\t\tC:21.88\n",
      "F:88.09\t\tC:31.16\n",
      "F:70.35\t\tC:21.31\n",
      "F:91.75\t\tC:33.19\n",
      "F:77.82\t\tC:25.46\n",
      "F:72.95\t\tC:22.75\n",
      "F:69.1\t\tC:20.61\n",
      "F:76.79\t\tC:24.88\n",
      "F:83.27\t\tC:28.48\n",
      "F:82.07\t\tC:27.82\n",
      "F:59.89\t\tC:15.49\n",
      "F:66.05\t\tC:18.92\n",
      "F:70.04\t\tC:21.13\n",
      "F:89.25\t\tC:31.81\n",
      "F:96.8\t\tC:36.0\n",
      "F:83.85\t\tC:28.81\n",
      "F:84.38\t\tC:29.1\n",
      "F:98.23\t\tC:36.79\n",
      "F:77.45\t\tC:25.25\n",
      "F:98.77\t\tC:37.09\n",
      "F:93.13\t\tC:33.96\n",
      "F:64.02\t\tC:17.79\n",
      "F:90.63\t\tC:32.57\n",
      "F:76.04\t\tC:24.47\n",
      "F:94.94\t\tC:34.97\n",
      "F:73.03\t\tC:22.79\n",
      "F:67.06\t\tC:19.48\n",
      "F:84.95\t\tC:29.42\n",
      "F:77.31\t\tC:25.17\n",
      "F:87.41\t\tC:30.78\n",
      "F:60.96\t\tC:16.09\n",
      "F:82.29\t\tC:27.94\n",
      "F:89.23\t\tC:31.79\n",
      "F:98.31\t\tC:36.84\n",
      "F:84.95\t\tC:29.42\n",
      "F:74.22\t\tC:23.46\n",
      "F:74.48\t\tC:23.6\n",
      "F:55.27\t\tC:12.93\n",
      "F:70.09\t\tC:21.16\n",
      "F:64.45\t\tC:18.03\n",
      "F:94.15\t\tC:34.53\n",
      "F:60.11\t\tC:15.62\n",
      "F:66.54\t\tC:19.19\n",
      "F:76.41\t\tC:24.67\n",
      "F:72.16\t\tC:22.31\n",
      "F:88.5\t\tC:31.39\n",
      "F:77.19\t\tC:25.11\n",
      "F:84.63\t\tC:29.24\n",
      "F:92.39\t\tC:33.55\n",
      "F:78.56\t\tC:25.87\n",
      "F:60.05\t\tC:15.58\n",
      "F:85.74\t\tC:29.86\n",
      "F:72.51\t\tC:22.51\n",
      "F:88.5\t\tC:31.39\n",
      "F:72.43\t\tC:22.46\n",
      "F:66.92\t\tC:19.4\n",
      "F:70.35\t\tC:21.31\n",
      "F:80.1\t\tC:26.72\n",
      "F:76.47\t\tC:24.71\n",
      "F:60.65\t\tC:15.92\n",
      "F:82.5\t\tC:28.06\n",
      "F:84.67\t\tC:29.26\n",
      "F:90.24\t\tC:32.36\n",
      "F:61.58\t\tC:16.43\n",
      "F:74.58\t\tC:23.66\n",
      "F:63.34\t\tC:17.41\n",
      "F:85.32\t\tC:29.62\n",
      "F:78.43\t\tC:25.79\n",
      "F:60.31\t\tC:15.73\n",
      "F:74.55\t\tC:23.64\n",
      "F:97.44\t\tC:36.36\n",
      "F:72.11\t\tC:22.28\n",
      "F:90.41\t\tC:32.45\n",
      "F:98.29\t\tC:36.83\n",
      "F:65.59\t\tC:18.66\n",
      "F:77.84\t\tC:25.47\n",
      "F:78.79\t\tC:25.99\n",
      "F:62.88\t\tC:17.16\n",
      "F:94.55\t\tC:34.75\n",
      "F:56.0\t\tC:13.33\n",
      "F:77.14\t\tC:25.08\n",
      "F:65.62\t\tC:18.68\n",
      "F:93.72\t\tC:34.29\n",
      "F:76.25\t\tC:24.58\n",
      "F:95.05\t\tC:35.03\n",
      "F:85.96\t\tC:29.98\n",
      "F:92.07\t\tC:33.37\n",
      "F:81.53\t\tC:27.52\n",
      "F:87.06\t\tC:30.59\n",
      "F:78.65\t\tC:25.92\n",
      "F:92.18\t\tC:33.43\n",
      "F:77.94\t\tC:25.52\n",
      "F:62.4\t\tC:16.89\n",
      "F:75.57\t\tC:24.21\n",
      "F:83.56\t\tC:28.64\n",
      "F:69.76\t\tC:20.98\n",
      "F:83.84\t\tC:28.8\n",
      "F:79.51\t\tC:26.39\n",
      "F:68.53\t\tC:20.29\n",
      "F:61.74\t\tC:16.52\n",
      "F:61.4\t\tC:16.33\n",
      "F:59.35\t\tC:15.19\n",
      "F:84.83\t\tC:29.35\n",
      "F:90.31\t\tC:32.39\n",
      "F:66.47\t\tC:19.15\n",
      "F:73.57\t\tC:23.09\n",
      "F:92.77\t\tC:33.76\n",
      "F:90.88\t\tC:32.71\n",
      "F:82.6\t\tC:28.11\n",
      "F:57.11\t\tC:13.95\n",
      "F:92.23\t\tC:33.46\n",
      "F:72.41\t\tC:22.45\n",
      "F:63.65\t\tC:17.58\n",
      "F:68.62\t\tC:20.34\n",
      "F:85.24\t\tC:29.58\n",
      "F:60.24\t\tC:15.69\n",
      "F:63.05\t\tC:17.25\n",
      "F:80.59\t\tC:26.99\n",
      "F:95.96\t\tC:35.53\n",
      "F:81.2\t\tC:27.33\n",
      "F:90.69\t\tC:32.61\n",
      "F:68.98\t\tC:20.54\n",
      "F:82.36\t\tC:27.98\n",
      "F:60.91\t\tC:16.06\n",
      "F:76.29\t\tC:24.61\n",
      "F:66.39\t\tC:19.11\n",
      "F:86.23\t\tC:30.13\n",
      "F:80.42\t\tC:26.9\n",
      "F:66.45\t\tC:19.14\n",
      "F:72.29\t\tC:22.38\n",
      "F:92.6\t\tC:33.67\n",
      "F:56.3\t\tC:13.5\n",
      "F:81.61\t\tC:27.56\n",
      "F:70.23\t\tC:21.24\n",
      "F:79.97\t\tC:26.65\n",
      "F:93.4\t\tC:34.11\n",
      "F:69.48\t\tC:20.82\n",
      "F:56.61\t\tC:13.67\n",
      "F:61.06\t\tC:16.14\n",
      "F:97.16\t\tC:36.2\n",
      "F:71.28\t\tC:21.82\n",
      "F:70.28\t\tC:21.27\n",
      "F:69.64\t\tC:20.91\n",
      "F:83.46\t\tC:28.59\n",
      "F:60.43\t\tC:15.79\n",
      "F:84.73\t\tC:29.29\n",
      "F:87.57\t\tC:30.87\n",
      "F:69.13\t\tC:20.63\n",
      "F:67.71\t\tC:19.84\n",
      "F:60.47\t\tC:15.82\n",
      "F:72.44\t\tC:22.47\n",
      "F:66.33\t\tC:19.07\n",
      "F:87.93\t\tC:31.07\n",
      "F:65.31\t\tC:18.51\n",
      "F:64.19\t\tC:17.88\n",
      "F:94.14\t\tC:34.52\n",
      "F:92.37\t\tC:33.54\n",
      "F:63.5\t\tC:17.5\n",
      "F:62.16\t\tC:16.76\n",
      "F:89.6\t\tC:32.0\n",
      "F:80.07\t\tC:26.71\n",
      "F:74.02\t\tC:23.34\n",
      "F:72.04\t\tC:22.24\n",
      "F:85.95\t\tC:29.97\n",
      "F:98.17\t\tC:36.76\n",
      "F:66.95\t\tC:19.42\n",
      "F:57.56\t\tC:14.2\n",
      "F:63.31\t\tC:17.39\n",
      "F:70.94\t\tC:21.63\n",
      "F:97.35\t\tC:36.31\n",
      "F:84.88\t\tC:29.38\n",
      "F:68.34\t\tC:20.19\n",
      "F:95.69\t\tC:35.38\n",
      "F:61.15\t\tC:16.19\n",
      "F:68.37\t\tC:20.21\n",
      "F:68.07\t\tC:20.04\n",
      "F:70.37\t\tC:21.32\n",
      "F:69.92\t\tC:21.07\n",
      "F:94.18\t\tC:34.54\n",
      "F:74.56\t\tC:23.64\n",
      "F:76.19\t\tC:24.55\n",
      "F:58.0\t\tC:14.44\n",
      "F:79.04\t\tC:26.13\n",
      "F:56.0\t\tC:13.33\n",
      "F:63.09\t\tC:17.27\n",
      "F:73.82\t\tC:23.23\n",
      "F:80.61\t\tC:27.01\n",
      "F:72.23\t\tC:22.35\n",
      "F:67.86\t\tC:19.92\n",
      "F:82.45\t\tC:28.03\n",
      "F:81.04\t\tC:27.24\n",
      "F:67.24\t\tC:19.58\n",
      "F:67.55\t\tC:19.75\n",
      "F:81.57\t\tC:27.54\n",
      "F:98.9\t\tC:37.17\n",
      "F:93.69\t\tC:34.27\n",
      "F:85.44\t\tC:29.69\n",
      "F:73.82\t\tC:23.23\n",
      "F:60.77\t\tC:15.98\n",
      "F:94.8\t\tC:34.89\n",
      "F:69.13\t\tC:20.63\n",
      "F:55.72\t\tC:13.18\n",
      "F:60.29\t\tC:15.72\n",
      "F:93.3\t\tC:34.06\n",
      "F:70.05\t\tC:21.14\n",
      "F:59.11\t\tC:15.06\n",
      "F:55.92\t\tC:13.29\n",
      "F:79.2\t\tC:26.22\n",
      "F:87.64\t\tC:30.91\n",
      "F:56.67\t\tC:13.71\n",
      "F:60.84\t\tC:16.02\n",
      "F:57.77\t\tC:14.32\n",
      "F:81.78\t\tC:27.66\n",
      "F:60.16\t\tC:15.64\n",
      "F:81.12\t\tC:27.29\n",
      "F:84.79\t\tC:29.33\n",
      "F:97.5\t\tC:36.39\n",
      "F:70.22\t\tC:21.23\n",
      "F:74.73\t\tC:23.74\n",
      "F:96.27\t\tC:35.71\n",
      "F:66.02\t\tC:18.9\n",
      "F:86.13\t\tC:30.07\n",
      "F:69.82\t\tC:21.01\n",
      "F:57.44\t\tC:14.13\n",
      "F:78.54\t\tC:25.86\n",
      "F:56.64\t\tC:13.69\n",
      "F:74.65\t\tC:23.69\n",
      "F:93.97\t\tC:34.43\n",
      "F:57.36\t\tC:14.09\n",
      "F:90.39\t\tC:32.44\n",
      "F:98.19\t\tC:36.77\n",
      "F:79.11\t\tC:26.17\n",
      "F:89.5\t\tC:31.94\n",
      "F:56.09\t\tC:13.38\n",
      "F:89.58\t\tC:31.99\n",
      "F:75.8\t\tC:24.33\n",
      "F:70.15\t\tC:21.19\n",
      "F:69.34\t\tC:20.74\n",
      "F:91.32\t\tC:32.96\n",
      "F:94.45\t\tC:34.69\n",
      "F:57.58\t\tC:14.21\n",
      "F:74.94\t\tC:23.86\n",
      "F:60.35\t\tC:15.75\n",
      "F:85.96\t\tC:29.98\n",
      "F:74.36\t\tC:23.53\n",
      "F:84.69\t\tC:29.27\n",
      "F:70.45\t\tC:21.36\n",
      "F:55.27\t\tC:12.93\n",
      "F:65.68\t\tC:18.71\n",
      "F:75.54\t\tC:24.19\n",
      "F:71.92\t\tC:22.18\n",
      "F:58.54\t\tC:14.74\n",
      "F:98.49\t\tC:36.94\n",
      "F:95.62\t\tC:35.34\n",
      "F:89.1\t\tC:31.72\n",
      "F:87.16\t\tC:30.64\n",
      "F:56.05\t\tC:13.36\n",
      "F:65.41\t\tC:18.56\n",
      "F:63.45\t\tC:17.47\n",
      "F:89.65\t\tC:32.03\n",
      "F:93.73\t\tC:34.29\n",
      "F:63.29\t\tC:17.38\n",
      "F:57.39\t\tC:14.11\n",
      "F:92.15\t\tC:33.42\n",
      "F:84.89\t\tC:29.38\n",
      "F:65.0\t\tC:18.33\n",
      "F:77.99\t\tC:25.55\n",
      "F:92.4\t\tC:33.56\n",
      "F:96.28\t\tC:35.71\n",
      "F:84.84\t\tC:29.36\n",
      "F:79.85\t\tC:26.58\n",
      "F:80.09\t\tC:26.72\n",
      "F:91.7\t\tC:33.17\n",
      "F:93.77\t\tC:34.32\n",
      "F:58.51\t\tC:14.73\n",
      "F:94.79\t\tC:34.88\n",
      "F:94.81\t\tC:34.89\n",
      "F:94.97\t\tC:34.98\n",
      "F:97.34\t\tC:36.3\n",
      "F:58.14\t\tC:14.52\n",
      "F:75.82\t\tC:24.34\n",
      "F:68.52\t\tC:20.29\n",
      "F:76.31\t\tC:24.62\n",
      "F:76.57\t\tC:24.76\n",
      "F:98.31\t\tC:36.84\n",
      "F:71.36\t\tC:21.87\n",
      "F:68.26\t\tC:20.14\n",
      "F:64.17\t\tC:17.87\n",
      "F:92.85\t\tC:33.81\n",
      "F:75.13\t\tC:23.96\n",
      "F:91.15\t\tC:32.86\n",
      "F:64.55\t\tC:18.08\n",
      "F:91.76\t\tC:33.2\n",
      "F:80.35\t\tC:26.86\n",
      "F:70.4\t\tC:21.33\n",
      "F:69.14\t\tC:20.63\n",
      "F:55.29\t\tC:12.94\n",
      "F:67.31\t\tC:19.62\n",
      "F:65.66\t\tC:18.7\n",
      "F:89.74\t\tC:32.08\n",
      "F:85.17\t\tC:29.54\n",
      "F:87.49\t\tC:30.83\n",
      "F:88.36\t\tC:31.31\n",
      "F:73.01\t\tC:22.78\n",
      "F:89.46\t\tC:31.92\n",
      "F:90.32\t\tC:32.4\n",
      "F:57.13\t\tC:13.96\n",
      "F:96.33\t\tC:35.74\n",
      "F:81.48\t\tC:27.49\n",
      "F:55.17\t\tC:12.87\n",
      "F:66.13\t\tC:18.96\n",
      "F:59.32\t\tC:15.18\n",
      "F:64.29\t\tC:17.94\n",
      "F:98.77\t\tC:37.09\n",
      "F:62.3\t\tC:16.83\n",
      "F:87.73\t\tC:30.96\n",
      "F:61.19\t\tC:16.22\n",
      "F:93.91\t\tC:34.39\n",
      "F:81.81\t\tC:27.67\n",
      "F:92.83\t\tC:33.79\n",
      "F:86.08\t\tC:30.04\n",
      "F:92.92\t\tC:33.84\n",
      "F:78.0\t\tC:25.56\n",
      "F:79.98\t\tC:26.66\n",
      "F:91.22\t\tC:32.9\n",
      "F:93.65\t\tC:34.25\n",
      "F:61.68\t\tC:16.49\n",
      "F:86.89\t\tC:30.49\n",
      "F:74.71\t\tC:23.73\n",
      "F:83.57\t\tC:28.65\n",
      "F:59.93\t\tC:15.52\n",
      "F:95.32\t\tC:35.18\n",
      "F:93.78\t\tC:34.32\n",
      "F:68.65\t\tC:20.36\n",
      "F:88.26\t\tC:31.26\n",
      "F:88.71\t\tC:31.51\n",
      "F:88.57\t\tC:31.43\n",
      "F:88.37\t\tC:31.32\n",
      "F:66.82\t\tC:19.34\n",
      "F:84.63\t\tC:29.24\n",
      "F:95.32\t\tC:35.18\n",
      "F:55.32\t\tC:12.96\n",
      "F:61.27\t\tC:16.26\n",
      "F:94.69\t\tC:34.83\n",
      "F:76.84\t\tC:24.91\n",
      "F:78.2\t\tC:25.67\n",
      "F:61.59\t\tC:16.44\n",
      "F:61.64\t\tC:16.47\n",
      "F:95.82\t\tC:35.46\n",
      "F:70.82\t\tC:21.57\n",
      "F:95.47\t\tC:35.26\n",
      "F:91.55\t\tC:33.08\n",
      "F:92.31\t\tC:33.51\n",
      "F:70.73\t\tC:21.52\n",
      "F:64.95\t\tC:18.31\n",
      "F:61.85\t\tC:16.58\n",
      "F:84.7\t\tC:29.28\n",
      "F:80.4\t\tC:26.89\n",
      "F:83.43\t\tC:28.57\n",
      "F:89.7\t\tC:32.06\n",
      "F:76.39\t\tC:24.66\n",
      "F:95.18\t\tC:35.1\n",
      "F:94.15\t\tC:34.53\n",
      "F:97.97\t\tC:36.65\n",
      "F:73.42\t\tC:23.01\n",
      "F:69.81\t\tC:21.01\n",
      "F:90.39\t\tC:32.44\n",
      "F:61.27\t\tC:16.26\n",
      "F:89.47\t\tC:31.93\n",
      "F:65.0\t\tC:18.33\n",
      "F:79.9\t\tC:26.61\n",
      "F:95.43\t\tC:35.24\n",
      "F:64.46\t\tC:18.03\n",
      "F:68.35\t\tC:20.19\n",
      "F:89.86\t\tC:32.14\n",
      "F:90.36\t\tC:32.42\n",
      "F:90.7\t\tC:32.61\n",
      "F:83.13\t\tC:28.41\n",
      "F:65.88\t\tC:18.82\n",
      "F:57.58\t\tC:14.21\n",
      "F:70.18\t\tC:21.21\n",
      "F:88.23\t\tC:31.24\n",
      "F:79.68\t\tC:26.49\n",
      "F:58.13\t\tC:14.52\n",
      "F:77.12\t\tC:25.07\n",
      "F:58.32\t\tC:14.62\n",
      "F:76.04\t\tC:24.47\n",
      "F:75.19\t\tC:23.99\n",
      "F:63.41\t\tC:17.45\n",
      "F:69.53\t\tC:20.85\n",
      "F:87.39\t\tC:30.77\n",
      "F:90.89\t\tC:32.72\n",
      "F:75.43\t\tC:24.13\n",
      "F:81.27\t\tC:27.37\n",
      "F:70.07\t\tC:21.15\n",
      "F:66.22\t\tC:19.01\n",
      "F:81.7\t\tC:27.61\n",
      "F:98.12\t\tC:36.73\n",
      "F:64.47\t\tC:18.04\n",
      "F:80.68\t\tC:27.04\n",
      "F:69.92\t\tC:21.07\n",
      "F:94.36\t\tC:34.64\n",
      "F:61.22\t\tC:16.23\n",
      "F:70.26\t\tC:21.26\n",
      "F:73.26\t\tC:22.92\n",
      "F:60.28\t\tC:15.71\n",
      "F:89.98\t\tC:32.21\n",
      "F:84.41\t\tC:29.12\n",
      "F:75.12\t\tC:23.96\n",
      "F:87.25\t\tC:30.69\n",
      "F:77.59\t\tC:25.33\n",
      "F:96.35\t\tC:35.75\n",
      "F:82.02\t\tC:27.79\n",
      "F:83.19\t\tC:28.44\n",
      "F:69.41\t\tC:20.78\n",
      "F:74.15\t\tC:23.42\n",
      "F:74.4\t\tC:23.56\n",
      "F:96.86\t\tC:36.03\n",
      "F:55.21\t\tC:12.89\n",
      "F:96.45\t\tC:35.81\n",
      "F:83.95\t\tC:28.86\n",
      "F:91.09\t\tC:32.83\n",
      "F:80.82\t\tC:27.12\n",
      "F:73.99\t\tC:23.33\n",
      "F:82.65\t\tC:28.14\n",
      "F:93.02\t\tC:33.9\n",
      "F:75.15\t\tC:23.97\n",
      "F:70.21\t\tC:21.23\n",
      "F:60.11\t\tC:15.62\n",
      "F:85.2\t\tC:29.56\n",
      "F:86.19\t\tC:30.11\n",
      "F:62.56\t\tC:16.98\n",
      "F:95.0\t\tC:35.0\n",
      "F:98.02\t\tC:36.68\n",
      "F:81.72\t\tC:27.62\n",
      "F:62.62\t\tC:17.01\n",
      "F:84.4\t\tC:29.11\n",
      "F:82.84\t\tC:28.24\n",
      "F:85.89\t\tC:29.94\n",
      "F:71.24\t\tC:21.8\n",
      "F:57.43\t\tC:14.13\n",
      "F:84.58\t\tC:29.21\n",
      "F:90.93\t\tC:32.74\n",
      "F:69.81\t\tC:21.01\n",
      "F:58.33\t\tC:14.63\n",
      "F:60.65\t\tC:15.92\n",
      "F:76.38\t\tC:24.66\n",
      "F:79.54\t\tC:26.41\n",
      "F:77.94\t\tC:25.52\n",
      "F:64.86\t\tC:18.26\n",
      "F:96.77\t\tC:35.98\n",
      "F:72.34\t\tC:22.41\n",
      "F:86.85\t\tC:30.47\n",
      "F:63.46\t\tC:17.48\n",
      "F:97.4\t\tC:36.33\n",
      "F:94.48\t\tC:34.71\n",
      "F:81.37\t\tC:27.43\n",
      "F:77.4\t\tC:25.22\n",
      "F:76.56\t\tC:24.76\n",
      "F:64.62\t\tC:18.12\n",
      "F:61.89\t\tC:16.61\n",
      "F:79.66\t\tC:26.48\n",
      "F:67.43\t\tC:19.68\n",
      "F:80.27\t\tC:26.82\n",
      "F:81.49\t\tC:27.49\n",
      "F:56.41\t\tC:13.56\n",
      "F:98.07\t\tC:36.71\n",
      "F:81.62\t\tC:27.57\n",
      "F:61.25\t\tC:16.25\n",
      "F:69.92\t\tC:21.07\n",
      "F:73.68\t\tC:23.16\n",
      "F:73.42\t\tC:23.01\n",
      "F:79.57\t\tC:26.43\n",
      "F:59.09\t\tC:15.05\n",
      "F:84.98\t\tC:29.43\n",
      "F:83.12\t\tC:28.4\n",
      "F:90.28\t\tC:32.38\n",
      "F:56.84\t\tC:13.8\n",
      "F:67.41\t\tC:19.67\n",
      "F:73.28\t\tC:22.93\n",
      "F:87.78\t\tC:30.99\n",
      "F:68.08\t\tC:20.04\n",
      "F:87.66\t\tC:30.92\n",
      "F:71.85\t\tC:22.14\n",
      "F:61.94\t\tC:16.63\n",
      "F:60.54\t\tC:15.86\n",
      "F:92.99\t\tC:33.88\n",
      "F:84.01\t\tC:28.89\n",
      "F:81.84\t\tC:27.69\n",
      "F:64.39\t\tC:17.99\n",
      "F:78.61\t\tC:25.89\n",
      "F:97.95\t\tC:36.64\n",
      "F:60.2\t\tC:15.67\n",
      "F:83.99\t\tC:28.88\n",
      "F:56.45\t\tC:13.58\n",
      "F:93.18\t\tC:33.99\n",
      "F:92.71\t\tC:33.73\n",
      "F:79.48\t\tC:26.38\n",
      "F:83.31\t\tC:28.51\n",
      "F:75.41\t\tC:24.12\n",
      "F:95.95\t\tC:35.53\n",
      "F:90.01\t\tC:32.23\n",
      "F:66.25\t\tC:19.03\n",
      "F:62.28\t\tC:16.82\n",
      "F:89.8\t\tC:32.11\n",
      "F:80.71\t\tC:27.06\n",
      "F:81.11\t\tC:27.28\n",
      "F:96.1\t\tC:35.61\n",
      "F:69.21\t\tC:20.67\n",
      "F:98.8\t\tC:37.11\n",
      "F:65.26\t\tC:18.48\n",
      "F:92.41\t\tC:33.56\n",
      "F:66.98\t\tC:19.43\n",
      "F:78.01\t\tC:25.56\n",
      "F:86.67\t\tC:30.37\n",
      "F:57.79\t\tC:14.33\n",
      "F:61.15\t\tC:16.19\n",
      "F:62.37\t\tC:16.87\n",
      "F:63.87\t\tC:17.71\n",
      "F:60.81\t\tC:16.01\n",
      "F:62.57\t\tC:16.98\n",
      "F:96.38\t\tC:35.77\n",
      "F:73.57\t\tC:23.09\n",
      "F:70.28\t\tC:21.27\n",
      "F:80.02\t\tC:26.68\n",
      "F:89.24\t\tC:31.8\n",
      "F:94.71\t\tC:34.84\n",
      "F:79.74\t\tC:26.52\n",
      "F:87.29\t\tC:30.72\n",
      "F:69.41\t\tC:20.78\n",
      "F:79.38\t\tC:26.32\n",
      "F:72.03\t\tC:22.24\n",
      "F:68.18\t\tC:20.1\n",
      "F:81.89\t\tC:27.72\n",
      "F:88.12\t\tC:31.18\n",
      "F:58.59\t\tC:14.77\n",
      "F:62.88\t\tC:17.16\n",
      "F:93.06\t\tC:33.92\n",
      "F:56.74\t\tC:13.74\n",
      "F:66.8\t\tC:19.33\n",
      "F:63.66\t\tC:17.59\n",
      "F:66.5\t\tC:19.17\n",
      "F:64.12\t\tC:17.84\n",
      "F:78.23\t\tC:25.68\n",
      "F:69.68\t\tC:20.93\n",
      "F:59.47\t\tC:15.26\n",
      "F:85.35\t\tC:29.64\n",
      "F:81.26\t\tC:27.37\n",
      "F:66.81\t\tC:19.34\n",
      "F:59.02\t\tC:15.01\n",
      "F:67.63\t\tC:19.79\n",
      "F:97.46\t\tC:36.37\n",
      "F:92.74\t\tC:33.74\n",
      "F:75.77\t\tC:24.32\n",
      "F:85.54\t\tC:29.74\n",
      "F:82.35\t\tC:27.97\n",
      "F:86.11\t\tC:30.06\n",
      "F:86.87\t\tC:30.48\n",
      "F:63.14\t\tC:17.3\n",
      "F:93.39\t\tC:34.11\n",
      "F:58.1\t\tC:14.5\n",
      "F:79.63\t\tC:26.46\n",
      "F:74.82\t\tC:23.79\n",
      "F:78.56\t\tC:25.87\n",
      "F:81.58\t\tC:27.54\n",
      "F:79.28\t\tC:26.27\n",
      "F:80.29\t\tC:26.83\n",
      "F:57.36\t\tC:14.09\n",
      "F:73.36\t\tC:22.98\n",
      "F:70.23\t\tC:21.24\n",
      "F:71.67\t\tC:22.04\n",
      "F:90.77\t\tC:32.65\n",
      "F:88.58\t\tC:31.43\n",
      "F:85.33\t\tC:29.63\n",
      "F:59.68\t\tC:15.38\n",
      "F:58.68\t\tC:14.82\n",
      "F:79.07\t\tC:26.15\n",
      "F:98.36\t\tC:36.87\n",
      "F:92.8\t\tC:33.78\n",
      "F:69.88\t\tC:21.04\n",
      "F:85.48\t\tC:29.71\n",
      "F:95.71\t\tC:35.39\n",
      "F:87.12\t\tC:30.62\n",
      "F:88.75\t\tC:31.53\n",
      "F:74.09\t\tC:23.38\n",
      "F:82.99\t\tC:28.33\n",
      "F:82.54\t\tC:28.08\n",
      "F:78.28\t\tC:25.71\n",
      "F:72.11\t\tC:22.28\n",
      "F:56.82\t\tC:13.79\n",
      "F:96.44\t\tC:35.8\n",
      "F:62.63\t\tC:17.02\n",
      "F:68.99\t\tC:20.55\n",
      "F:87.66\t\tC:30.92\n",
      "F:94.25\t\tC:34.58\n",
      "F:69.54\t\tC:20.86\n",
      "F:68.55\t\tC:20.31\n",
      "F:78.99\t\tC:26.11\n",
      "F:72.02\t\tC:22.23\n",
      "F:68.49\t\tC:20.27\n",
      "F:64.13\t\tC:17.85\n",
      "F:70.42\t\tC:21.34\n",
      "F:95.79\t\tC:35.44\n",
      "F:92.72\t\tC:33.73\n",
      "F:96.33\t\tC:35.74\n",
      "F:62.84\t\tC:17.13\n",
      "F:56.84\t\tC:13.8\n",
      "F:66.66\t\tC:19.26\n",
      "F:65.71\t\tC:18.73\n",
      "F:71.13\t\tC:21.74\n",
      "F:89.17\t\tC:31.76\n",
      "F:73.58\t\tC:23.1\n",
      "F:78.35\t\tC:25.75\n",
      "F:89.96\t\tC:32.2\n",
      "F:92.1\t\tC:33.39\n",
      "F:94.24\t\tC:34.58\n",
      "F:57.69\t\tC:14.27\n",
      "F:68.48\t\tC:20.27\n",
      "F:68.15\t\tC:20.08\n",
      "F:92.31\t\tC:33.51\n",
      "F:93.64\t\tC:34.24\n",
      "F:55.34\t\tC:12.97\n",
      "F:57.58\t\tC:14.21\n",
      "F:91.08\t\tC:32.82\n",
      "F:62.5\t\tC:16.94\n",
      "F:78.98\t\tC:26.1\n",
      "F:88.1\t\tC:31.17\n",
      "F:64.33\t\tC:17.96\n",
      "F:86.34\t\tC:30.19\n",
      "F:61.61\t\tC:16.45\n",
      "F:67.58\t\tC:19.77\n",
      "F:68.09\t\tC:20.05\n",
      "F:67.21\t\tC:19.56\n",
      "F:85.38\t\tC:29.66\n",
      "F:67.89\t\tC:19.94\n",
      "F:57.66\t\tC:14.26\n",
      "F:97.84\t\tC:36.58\n",
      "F:80.5\t\tC:26.94\n",
      "F:94.95\t\tC:34.97\n",
      "F:90.13\t\tC:32.29\n",
      "F:85.68\t\tC:29.82\n",
      "F:87.44\t\tC:30.8\n",
      "F:90.01\t\tC:32.23\n",
      "F:79.55\t\tC:26.42\n",
      "F:76.63\t\tC:24.79\n",
      "F:75.06\t\tC:23.92\n",
      "F:60.13\t\tC:15.63\n",
      "F:67.87\t\tC:19.93\n",
      "F:88.12\t\tC:31.18\n",
      "F:96.35\t\tC:35.75\n",
      "F:95.72\t\tC:35.4\n",
      "F:60.26\t\tC:15.7\n",
      "F:90.39\t\tC:32.44\n",
      "F:73.28\t\tC:22.93\n",
      "F:95.7\t\tC:35.39\n",
      "F:74.76\t\tC:23.76\n",
      "F:62.54\t\tC:16.97\n",
      "F:93.43\t\tC:34.13\n",
      "F:79.28\t\tC:26.27\n",
      "F:97.23\t\tC:36.24\n",
      "F:95.07\t\tC:35.04\n",
      "F:67.6\t\tC:19.78\n",
      "F:61.68\t\tC:16.49\n",
      "F:76.68\t\tC:24.82\n",
      "F:95.85\t\tC:35.47\n",
      "F:88.12\t\tC:31.18\n",
      "F:69.37\t\tC:20.76\n",
      "F:58.03\t\tC:14.46\n",
      "F:88.86\t\tC:31.59\n",
      "F:77.45\t\tC:25.25\n",
      "F:81.97\t\tC:27.76\n",
      "F:96.34\t\tC:35.74\n",
      "F:90.48\t\tC:32.49\n",
      "F:98.24\t\tC:36.8\n",
      "F:83.98\t\tC:28.88\n",
      "F:95.36\t\tC:35.2\n",
      "F:60.22\t\tC:15.68\n",
      "F:97.11\t\tC:36.17\n",
      "F:87.61\t\tC:30.89\n",
      "F:78.97\t\tC:26.09\n",
      "F:92.34\t\tC:33.52\n",
      "F:57.89\t\tC:14.38\n",
      "F:87.55\t\tC:30.86\n",
      "F:73.81\t\tC:23.23\n",
      "F:60.77\t\tC:15.98\n",
      "F:75.9\t\tC:24.39\n",
      "F:82.63\t\tC:28.13\n",
      "F:69.95\t\tC:21.08\n",
      "F:58.18\t\tC:14.54\n",
      "F:96.02\t\tC:35.57\n",
      "F:72.0\t\tC:22.22\n",
      "F:71.77\t\tC:22.09\n",
      "F:78.81\t\tC:26.01\n",
      "F:70.13\t\tC:21.18\n",
      "F:90.72\t\tC:32.62\n",
      "F:78.57\t\tC:25.87\n",
      "F:77.26\t\tC:25.14\n",
      "F:55.69\t\tC:13.16\n",
      "F:63.08\t\tC:17.27\n",
      "F:90.31\t\tC:32.39\n",
      "F:66.17\t\tC:18.98\n",
      "F:69.01\t\tC:20.56\n",
      "F:92.02\t\tC:33.34\n",
      "F:90.39\t\tC:32.44\n",
      "F:89.71\t\tC:32.06\n",
      "F:87.94\t\tC:31.08\n",
      "F:67.69\t\tC:19.83\n",
      "F:56.81\t\tC:13.78\n",
      "F:56.07\t\tC:13.37\n",
      "F:77.24\t\tC:25.13\n",
      "F:83.86\t\tC:28.81\n",
      "F:56.38\t\tC:13.54\n",
      "F:98.73\t\tC:37.07\n",
      "F:79.11\t\tC:26.17\n",
      "F:59.6\t\tC:15.33\n",
      "F:90.18\t\tC:32.32\n",
      "F:62.42\t\tC:16.9\n",
      "F:55.16\t\tC:12.87\n",
      "F:81.89\t\tC:27.72\n",
      "F:86.53\t\tC:30.29\n",
      "F:89.77\t\tC:32.09\n",
      "F:56.07\t\tC:13.37\n",
      "F:81.37\t\tC:27.43\n",
      "F:96.6\t\tC:35.89\n",
      "F:72.1\t\tC:22.28\n",
      "F:78.88\t\tC:26.04\n",
      "F:88.66\t\tC:31.48\n",
      "F:68.48\t\tC:20.27\n",
      "F:74.02\t\tC:23.34\n",
      "F:88.21\t\tC:31.23\n",
      "F:64.46\t\tC:18.03\n",
      "F:93.07\t\tC:33.93\n",
      "F:87.3\t\tC:30.72\n",
      "F:70.14\t\tC:21.19\n",
      "F:97.13\t\tC:36.18\n",
      "F:69.58\t\tC:20.88\n",
      "F:85.18\t\tC:29.54\n",
      "F:61.52\t\tC:16.4\n",
      "F:56.24\t\tC:13.47\n",
      "F:75.84\t\tC:24.36\n",
      "F:97.79\t\tC:36.55\n",
      "F:87.87\t\tC:31.04\n",
      "F:68.3\t\tC:20.17\n",
      "F:73.62\t\tC:23.12\n",
      "F:78.43\t\tC:25.79\n",
      "F:84.89\t\tC:29.38\n",
      "F:86.88\t\tC:30.49\n",
      "F:88.61\t\tC:31.45\n",
      "F:95.55\t\tC:35.31\n",
      "F:78.04\t\tC:25.58\n",
      "F:75.43\t\tC:24.13\n",
      "F:84.53\t\tC:29.18\n",
      "F:78.89\t\tC:26.05\n",
      "F:70.0\t\tC:21.11\n",
      "F:78.74\t\tC:25.97\n",
      "F:91.96\t\tC:33.31\n",
      "F:98.21\t\tC:36.78\n",
      "F:67.78\t\tC:19.88\n",
      "F:67.16\t\tC:19.53\n",
      "F:95.88\t\tC:35.49\n",
      "F:66.23\t\tC:19.02\n",
      "F:98.51\t\tC:36.95\n",
      "F:94.47\t\tC:34.71\n",
      "F:67.88\t\tC:19.93\n",
      "F:63.29\t\tC:17.38\n",
      "F:74.29\t\tC:23.49\n",
      "F:72.99\t\tC:22.77\n",
      "F:97.29\t\tC:36.27\n",
      "F:72.64\t\tC:22.58\n",
      "F:79.71\t\tC:26.51\n",
      "F:62.49\t\tC:16.94\n",
      "F:60.74\t\tC:15.97\n",
      "F:78.07\t\tC:25.59\n",
      "F:85.32\t\tC:29.62\n",
      "F:72.52\t\tC:22.51\n",
      "F:98.03\t\tC:36.68\n",
      "F:96.17\t\tC:35.65\n",
      "F:74.75\t\tC:23.75\n",
      "F:91.86\t\tC:33.26\n",
      "F:63.14\t\tC:17.3\n",
      "F:85.46\t\tC:29.7\n",
      "F:95.9\t\tC:35.5\n"
     ]
    },
    {
     "name": "stdout",
     "output_type": "stream",
     "text": [
      "F:79.22\t\tC:26.23\n",
      "F:64.31\t\tC:17.95\n",
      "F:89.71\t\tC:32.06\n",
      "F:71.2\t\tC:21.78\n",
      "F:98.81\t\tC:37.12\n",
      "F:65.92\t\tC:18.84\n",
      "F:96.48\t\tC:35.82\n",
      "F:78.72\t\tC:25.96\n",
      "F:70.64\t\tC:21.47\n",
      "F:89.9\t\tC:32.17\n",
      "F:73.88\t\tC:23.27\n",
      "F:92.75\t\tC:33.75\n",
      "F:65.17\t\tC:18.43\n",
      "F:69.72\t\tC:20.96\n",
      "F:87.47\t\tC:30.82\n",
      "F:95.19\t\tC:35.11\n",
      "F:78.26\t\tC:25.7\n",
      "F:65.15\t\tC:18.42\n",
      "F:74.31\t\tC:23.51\n",
      "F:81.3\t\tC:27.39\n",
      "F:74.27\t\tC:23.48\n",
      "F:95.14\t\tC:35.08\n",
      "F:69.91\t\tC:21.06\n",
      "F:69.84\t\tC:21.02\n",
      "F:55.6\t\tC:13.11\n",
      "F:97.22\t\tC:36.23\n",
      "F:67.47\t\tC:19.71\n",
      "F:93.44\t\tC:34.13\n",
      "F:67.44\t\tC:19.69\n",
      "F:81.04\t\tC:27.24\n",
      "F:81.26\t\tC:27.37\n",
      "F:92.01\t\tC:33.34\n",
      "F:72.95\t\tC:22.75\n",
      "F:67.78\t\tC:19.88\n",
      "F:90.25\t\tC:32.36\n",
      "F:71.93\t\tC:22.18\n",
      "F:86.94\t\tC:30.52\n",
      "F:80.37\t\tC:26.87\n",
      "F:83.11\t\tC:28.39\n",
      "F:59.27\t\tC:15.15\n",
      "F:90.91\t\tC:32.73\n",
      "F:93.39\t\tC:34.11\n",
      "F:92.39\t\tC:33.55\n",
      "F:73.02\t\tC:22.79\n"
     ]
    }
   ],
   "source": [
    "temps = np.random.uniform(low=55, high=99, size=(1000,))\n",
    "\n",
    "for temp in temps:\n",
    "    fahr = round(temp, ndigits=2)\n",
    "    celsius = fahr_to_celsius(fahr)\n",
    "    print(\"F:{}\\t\\tC:{}\".format(fahr,celsius))"
   ]
  },
  {
   "cell_type": "markdown",
   "metadata": {},
   "source": [
    "<img width=\"600px\" src=\"https://swcarpentry.github.io/python-novice-inflammation/fig/python-function.svg\">"
   ]
  },
  {
   "cell_type": "markdown",
   "metadata": {},
   "source": [
    "***\n",
    "<br>\n",
    "<br>"
   ]
  },
  {
   "cell_type": "markdown",
   "metadata": {},
   "source": [
    "## Functions WITHOUT Parameters/Arguments"
   ]
  },
  {
   "cell_type": "markdown",
   "metadata": {},
   "source": [
    "#### Define a basic function."
   ]
  },
  {
   "cell_type": "markdown",
   "metadata": {
    "collapsed": true
   },
   "source": [
    "```python\n",
    "def my_first_function():\n",
    "    print('Hello world!')```"
   ]
  },
  {
   "cell_type": "code",
   "execution_count": null,
   "metadata": {},
   "outputs": [],
   "source": [
    "def my_first_function():\n",
    "    print('Hello world!')"
   ]
  },
  {
   "cell_type": "code",
   "execution_count": null,
   "metadata": {},
   "outputs": [],
   "source": [
    "my_first_function()"
   ]
  },
  {
   "cell_type": "markdown",
   "metadata": {},
   "source": [
    "#### Check it's type"
   ]
  },
  {
   "cell_type": "markdown",
   "metadata": {},
   "source": [
    "```python\n",
    "print('type: {}'.format(my_first_function))```"
   ]
  },
  {
   "cell_type": "code",
   "execution_count": null,
   "metadata": {},
   "outputs": [],
   "source": []
  },
  {
   "cell_type": "markdown",
   "metadata": {},
   "source": [
    "#### CALL the function with `()`."
   ]
  },
  {
   "cell_type": "markdown",
   "metadata": {},
   "source": [
    "```python\n",
    "my_first_function()```"
   ]
  },
  {
   "cell_type": "code",
   "execution_count": null,
   "metadata": {},
   "outputs": [],
   "source": []
  },
  {
   "cell_type": "markdown",
   "metadata": {},
   "source": [
    "***\n",
    "<br>\n",
    "<br>"
   ]
  },
  {
   "cell_type": "markdown",
   "metadata": {},
   "source": [
    "## Functions WITH Parameters/Arguments"
   ]
  },
  {
   "cell_type": "markdown",
   "metadata": {},
   "source": [
    "<img width=\"1000px\" src=\"https://i.imgur.com/wPSr4pQ.png\">"
   ]
  },
  {
   "cell_type": "markdown",
   "metadata": {},
   "source": [
    "#### Define a Function w/ parameters \"first\" and \"last\""
   ]
  },
  {
   "cell_type": "markdown",
   "metadata": {
    "collapsed": true
   },
   "source": [
    "```python\n",
    "def secret_agent_greeting(first, last):\n",
    "    print('Call me {b}, {a} {b}.'.format(a = first, b = last))```"
   ]
  },
  {
   "cell_type": "code",
   "execution_count": null,
   "metadata": {},
   "outputs": [],
   "source": [
    "def secret_agent_greeting(first, last):\n",
    "    print('Call me {b}, {a} {b}.'.format(a = first, b = last))"
   ]
  },
  {
   "cell_type": "markdown",
   "metadata": {},
   "source": [
    "#### Check it's type"
   ]
  },
  {
   "cell_type": "markdown",
   "metadata": {},
   "source": [
    "```python\n",
    "print('type: {}'.format(my_first_function))```"
   ]
  },
  {
   "cell_type": "code",
   "execution_count": null,
   "metadata": {},
   "outputs": [],
   "source": []
  },
  {
   "cell_type": "markdown",
   "metadata": {},
   "source": [
    "#### Call function with `()` and passing in arguments.    "
   ]
  },
  {
   "cell_type": "markdown",
   "metadata": {
    "collapsed": true
   },
   "source": [
    "```python\n",
    "secret_agent_greeting('James','Bond')\n",
    "secret_agent_greeting('John', 'Doe')\n",
    "```"
   ]
  },
  {
   "cell_type": "code",
   "execution_count": null,
   "metadata": {},
   "outputs": [],
   "source": []
  },
  {
   "cell_type": "markdown",
   "metadata": {},
   "source": [
    "***\n",
    "<br>\n",
    "<br>"
   ]
  },
  {
   "cell_type": "markdown",
   "metadata": {},
   "source": [
    "## The `return` Statement."
   ]
  },
  {
   "cell_type": "markdown",
   "metadata": {},
   "source": [
    "#### Define a Function with a return value"
   ]
  },
  {
   "cell_type": "markdown",
   "metadata": {
    "collapsed": true
   },
   "source": [
    "```python\n",
    "def strip_and_lowercase(original):\n",
    "    modified = original.strip().lower()\n",
    "    return modified```"
   ]
  },
  {
   "cell_type": "code",
   "execution_count": null,
   "metadata": {},
   "outputs": [],
   "source": [
    "def strip_and_lowercase(original):\n",
    "    modified = original.strip().lower()\n",
    "    return modified"
   ]
  },
  {
   "cell_type": "markdown",
   "metadata": {},
   "source": [
    "#### We will use `uggly_string` as the \"argument\" for the `strip_and_lowercase` function. "
   ]
  },
  {
   "cell_type": "markdown",
   "metadata": {
    "collapsed": true
   },
   "source": [
    "```python\n",
    "uggly_string = '  MixED CaSe '\n",
    "```"
   ]
  },
  {
   "cell_type": "code",
   "execution_count": null,
   "metadata": {},
   "outputs": [],
   "source": [
    "uggly_string = '  MixED CaSe '"
   ]
  },
  {
   "cell_type": "markdown",
   "metadata": {},
   "source": [
    "#### The strip_and_lowercase function \"returns\" a value, \n",
    "> this means that we can store that value in a variable, in this case `pretty`."
   ]
  },
  {
   "cell_type": "markdown",
   "metadata": {
    "collapsed": true
   },
   "source": [
    "```python\n",
    "pretty = strip_and_lowercase(uggly_string)\n",
    "```"
   ]
  },
  {
   "cell_type": "code",
   "execution_count": null,
   "metadata": {},
   "outputs": [],
   "source": [
    "pretty = strip_and_lowercase(uggly_string)"
   ]
  },
  {
   "cell_type": "markdown",
   "metadata": {},
   "source": [
    "#### Print out the result"
   ]
  },
  {
   "cell_type": "markdown",
   "metadata": {},
   "source": [
    "```python \n",
    "print('original: {}'.format(uggly_string))\n",
    "print('pretty: {}'.format(pretty))```"
   ]
  },
  {
   "cell_type": "code",
   "execution_count": null,
   "metadata": {},
   "outputs": [],
   "source": [
    "print('original: {}'.format(uggly_string))\n",
    "print('pretty: {}'.format(uggly_string.strip().lower()))"
   ]
  },
  {
   "cell_type": "markdown",
   "metadata": {},
   "source": [
    "### \"Real-World\" Example"
   ]
  },
  {
   "cell_type": "code",
   "execution_count": null,
   "metadata": {},
   "outputs": [],
   "source": [
    "mixed_strings = [\n",
    "    \"SaLlY  \",\n",
    "    \"  SAlly  \",\n",
    "    \" SALLY   \",\n",
    "    \" saLLY  \",\n",
    "    \"   sALlY  \",\n",
    "    \"           saLLy  \",\n",
    "    \"     SAlly  \",\n",
    "    \"  SALly  \",\n",
    "    \"    sAlLy  \",\n",
    "    \"salLy   \",\n",
    "    \"  sAllY   \",\n",
    "    \" SaLlY    \",\n",
    "    \"   SAllY   \",\n",
    "    \" sALlY   \",\n",
    "    \" SaLlY  \",\n",
    "    \"   SAlly  \",\n",
    "    \"SALLY   \",\n",
    "    \"  saLLY  \",\n",
    "    \"    sALlY  \",\n",
    "    \"  saLLy  \",\n",
    "    \" SAlly  \",\n",
    "    \"   SALly  \",\n",
    "    \"sAlLy  \",\n",
    "    \"    salLy   \",\n",
    "    \" sAllY   \",\n",
    "    \"        SaLlY    \",\n",
    "    \" SAllY   \",\n",
    "    \"    sALlY   \"\n",
    "]"
   ]
  },
  {
   "cell_type": "code",
   "execution_count": null,
   "metadata": {},
   "outputs": [],
   "source": [
    "print(mixed_strings)"
   ]
  },
  {
   "cell_type": "code",
   "execution_count": null,
   "metadata": {},
   "outputs": [],
   "source": [
    "clean_strings = []\n",
    "for sally in mixed_strings:\n",
    "    sally_clean = strip_and_lowercase(sally)\n",
    "    clean_strings.append(sally_clean)"
   ]
  },
  {
   "cell_type": "code",
   "execution_count": null,
   "metadata": {},
   "outputs": [],
   "source": [
    "print(clean_strings)"
   ]
  },
  {
   "cell_type": "markdown",
   "metadata": {},
   "source": [
    "***\n",
    "<br>\n",
    "<center><h1 style = 'color:red'>-----------Quiz-------------</h1></center>\n",
    "<br>"
   ]
  },
  {
   "cell_type": "markdown",
   "metadata": {},
   "source": [
    "## Keyword arguments"
   ]
  },
  {
   "cell_type": "markdown",
   "metadata": {},
   "source": [
    "#### Define function WITH arguments."
   ]
  },
  {
   "cell_type": "markdown",
   "metadata": {},
   "source": [
    "```python\n",
    "def my_fancy_calculation(first, second, third):\n",
    "    return first + second - third \n",
    "```"
   ]
  },
  {
   "cell_type": "code",
   "execution_count": 1,
   "metadata": {},
   "outputs": [],
   "source": [
    "def my_fancy_calculation(first, second, third):\n",
    "    return first + second - third"
   ]
  },
  {
   "cell_type": "markdown",
   "metadata": {},
   "source": [
    "#### CALL the function. W/O and W/ Keyword arguments "
   ]
  },
  {
   "cell_type": "markdown",
   "metadata": {},
   "source": [
    "```python\n",
    "print(my_fancy_calculation(3, 2, 1))\n",
    "print('-----same-----')\n",
    "print(my_fancy_calculation(first = 3, second = 2, third = 1))```"
   ]
  },
  {
   "cell_type": "code",
   "execution_count": 6,
   "metadata": {},
   "outputs": [
    {
     "name": "stdout",
     "output_type": "stream",
     "text": [
      "4\n",
      "-----same-----\n",
      "0\n"
     ]
    }
   ],
   "source": [
    "print(my_fancy_calculation(2, 3, 1))\n",
    "print('-----same-----')\n",
    "print(my_fancy_calculation(third = 3, second = 2, first = 1))"
   ]
  },
  {
   "cell_type": "markdown",
   "metadata": {},
   "source": [
    "#### With keyword arguments you can mix the order"
   ]
  },
  {
   "cell_type": "markdown",
   "metadata": {},
   "source": [
    "```python \n",
    "print(my_fancy_calculation(third=1, first=3, second=2))```"
   ]
  },
  {
   "cell_type": "code",
   "execution_count": null,
   "metadata": {},
   "outputs": [],
   "source": []
  },
  {
   "cell_type": "markdown",
   "metadata": {},
   "source": [
    "#### You can mix NON-keyword arguments AND keyword arguments. \n",
    ">but you have to place non-keyqord arguments first."
   ]
  },
  {
   "cell_type": "markdown",
   "metadata": {},
   "source": [
    "```python\n",
    "print(my_fancy_calculation(3, third=1, second=2))```"
   ]
  },
  {
   "cell_type": "code",
   "execution_count": 21,
   "metadata": {},
   "outputs": [
    {
     "name": "stdout",
     "output_type": "stream",
     "text": [
      "4\n"
     ]
    }
   ],
   "source": [
    "print(my_fancy_calculation(third=1, second=2, first=3))"
   ]
  },
  {
   "cell_type": "markdown",
   "metadata": {},
   "source": [
    "***\n",
    "<br>\n",
    "<br>"
   ]
  },
  {
   "cell_type": "markdown",
   "metadata": {},
   "source": [
    "## Default arguments"
   ]
  },
  {
   "cell_type": "markdown",
   "metadata": {
    "collapsed": true
   },
   "source": [
    "```python \n",
    "def create_person_info(name, age, job=None, salary=300):\n",
    "    \n",
    "    info = {\"name\": name, \"age\": age, \"salary\": salary}\n",
    "    \n",
    "    # Add 'job' key only if it's provided as parameter\n",
    "    if job:  \n",
    "        info.update({'occupation': job})\n",
    "    return info\n",
    "```"
   ]
  },
  {
   "cell_type": "code",
   "execution_count": null,
   "metadata": {},
   "outputs": [],
   "source": []
  },
  {
   "cell_type": "markdown",
   "metadata": {},
   "source": [
    "#### Use default values for job and salary."
   ]
  },
  {
   "cell_type": "markdown",
   "metadata": {},
   "source": [
    "```python\n",
    "person1 = create_person_info('John Doe', 82)\n",
    "print(person1)```"
   ]
  },
  {
   "cell_type": "code",
   "execution_count": null,
   "metadata": {},
   "outputs": [],
   "source": []
  },
  {
   "cell_type": "markdown",
   "metadata": {},
   "source": [
    "#### Pass in values for each of the parameters."
   ]
  },
  {
   "cell_type": "markdown",
   "metadata": {
    "scrolled": true
   },
   "source": [
    "```python\n",
    "person2 = create_person_info('Lisa Doe', 22, 'hacker', 10000)\n",
    "print(person2)```"
   ]
  },
  {
   "cell_type": "code",
   "execution_count": null,
   "metadata": {},
   "outputs": [],
   "source": []
  },
  {
   "cell_type": "markdown",
   "metadata": {},
   "source": [
    "<br>"
   ]
  },
  {
   "cell_type": "markdown",
   "metadata": {},
   "source": [
    "***\n",
    "<br>\n",
    "<br>"
   ]
  },
  {
   "cell_type": "markdown",
   "metadata": {},
   "source": [
    "## Docstrings\n",
    "> Strings for documenting your functions, methods, modules and variables."
   ]
  },
  {
   "cell_type": "markdown",
   "metadata": {
    "collapsed": true
   },
   "source": [
    "```python\n",
    "def print_sum(val1, val2):\n",
    "\n",
    "    \"\"\"Function which prints the sum of given arguments.\"\"\"\n",
    "    \n",
    "    print('sum: {}'.format(val1 + val2))\n",
    "\n",
    "print(help(print_sum))```"
   ]
  },
  {
   "cell_type": "code",
   "execution_count": null,
   "metadata": {},
   "outputs": [],
   "source": []
  },
  {
   "cell_type": "markdown",
   "metadata": {
    "collapsed": true
   },
   "source": [
    "```python\n",
    "def calculate_sum(val1, val2):\n",
    "    \"\"\"This is a longer docstring defining Arguments and the return value.\n",
    "    Args:\n",
    "        val1: The first parameter.\n",
    "        val2: The second parameter.\n",
    "    Returns:\n",
    "        The sum of val1 and val2.\n",
    "    \"\"\"\n",
    "    return val1 + val2\n",
    "\n",
    "print(help(calculate_sum))```"
   ]
  },
  {
   "cell_type": "code",
   "execution_count": null,
   "metadata": {},
   "outputs": [],
   "source": []
  },
  {
   "cell_type": "markdown",
   "metadata": {},
   "source": [
    "***\n",
    "<br>\n",
    "<br>"
   ]
  },
  {
   "cell_type": "markdown",
   "metadata": {},
   "source": [
    "### The [`pass`](https://docs.python.org/3/reference/simple_stmts.html#the-pass-statement) statement\n",
    "`pass` is a statement which does nothing when it's executed. It can be used e.g. a as placeholder to make the code syntatically correct while sketching the functions and/or classes of your application. For example, the following is valid Python. "
   ]
  },
  {
   "cell_type": "markdown",
   "metadata": {
    "collapsed": true
   },
   "source": [
    "```python\n",
    "def my_function(some_argument):\n",
    "    pass\n",
    "\n",
    "def my_other_function():\n",
    "    pass\n",
    "```"
   ]
  },
  {
   "cell_type": "markdown",
   "metadata": {},
   "source": [
    "***\n",
    "<br>\n",
    "<center><h1 style = 'color:red'>-----------Quiz-------------</h1></center>\n",
    "<br>"
   ]
  }
 ],
 "metadata": {
  "kernelspec": {
   "display_name": "Python 3",
   "language": "python",
   "name": "python3"
  },
  "language_info": {
   "codemirror_mode": {
    "name": "ipython",
    "version": 3
   },
   "file_extension": ".py",
   "mimetype": "text/x-python",
   "name": "python",
   "nbconvert_exporter": "python",
   "pygments_lexer": "ipython3",
   "version": "3.7.1"
  }
 },
 "nbformat": 4,
 "nbformat_minor": 2
}
