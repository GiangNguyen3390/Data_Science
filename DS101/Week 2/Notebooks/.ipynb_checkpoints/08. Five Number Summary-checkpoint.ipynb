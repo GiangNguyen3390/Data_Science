{
 "cells": [
  {
   "cell_type": "code",
   "execution_count": 12,
   "metadata": {},
   "outputs": [],
   "source": [
    "import numpy as np"
   ]
  },
  {
   "cell_type": "markdown",
   "metadata": {},
   "source": [
    "# Analyzing Distributions of Numbers"
   ]
  },
  {
   "cell_type": "markdown",
   "metadata": {},
   "source": [
    "## Mean vs Median"
   ]
  },
  {
   "cell_type": "code",
   "execution_count": 15,
   "metadata": {},
   "outputs": [
    {
     "name": "stdout",
     "output_type": "stream",
     "text": [
      "[  0   1   2   3   4   5   6   7   8   9 100]\n"
     ]
    }
   ],
   "source": [
    "some_dist = np.array([0,1,2,3,4,5,6,7,8,9,10])\n",
    "print(some_dist)"
   ]
  },
  {
   "cell_type": "code",
   "execution_count": 16,
   "metadata": {},
   "outputs": [
    {
     "name": "stdout",
     "output_type": "stream",
     "text": [
      "mean: 13.181818181818182\n",
      "median: 5.0\n"
     ]
    }
   ],
   "source": [
    "print(\"mean:\", np.mean(some_dist))\n",
    "print(\"median:\", np.median(some_dist))"
   ]
  },
  {
   "cell_type": "markdown",
   "metadata": {},
   "source": [
    "## 5 Number Summary"
   ]
  },
  {
   "cell_type": "code",
   "execution_count": null,
   "metadata": {},
   "outputs": [],
   "source": [
    "def generate_samples(array, n_samples=100):\n",
    "    shape = array.shape\n",
    "    indices = np.random.randint(0, shape[0], size=n_samples)\n",
    "    return array[indices]"
   ]
  },
  {
   "cell_type": "code",
   "execution_count": 54,
   "metadata": {},
   "outputs": [],
   "source": [
    "# Create a sub_sampling from an original sample\n",
    "sample = np.array([1,2,3,4,5])\n",
    "gen_sample = generate_samples(sample, 1000)"
   ]
  },
  {
   "cell_type": "code",
   "execution_count": 55,
   "metadata": {},
   "outputs": [
    {
     "name": "stdout",
     "output_type": "stream",
     "text": [
      "unique values: [1 2 3 4 5]\n",
      "unique values: [1 2 3 4 5]\n"
     ]
    }
   ],
   "source": [
    "# Unique Values in a distribution\n",
    "print(\"unique values:\", np.unique(sample))\n",
    "print(\"unique values:\", np.unique(gen_sample))"
   ]
  },
  {
   "cell_type": "markdown",
   "metadata": {},
   "source": [
    "### Prepare 5-Num Summary"
   ]
  },
  {
   "cell_type": "code",
   "execution_count": 60,
   "metadata": {},
   "outputs": [],
   "source": [
    "def five_num_summary(dist):\n",
    "    _max = np.max(dist)\n",
    "    _min = np.min(dist)\n",
    "    quartiles = np.percentile(dist, [25,50,75])\n",
    "    \n",
    "    print(\"Sample Size:\", len(dist))\n",
    "    print(\"min:\", _min)\n",
    "    print(\"25th %:\", quartiles[0])\n",
    "    print(\"Median:\", quartiles[1])\n",
    "    print(\"75th %:\", quartiles[2])\n",
    "    print(\"max:\", _max)"
   ]
  },
  {
   "cell_type": "markdown",
   "metadata": {},
   "source": [
    "### Print 5-Num Summary"
   ]
  },
  {
   "cell_type": "code",
   "execution_count": 61,
   "metadata": {},
   "outputs": [
    {
     "name": "stdout",
     "output_type": "stream",
     "text": [
      "Sample Size: 5\n",
      "min: 1\n",
      "25th %: 2.0\n",
      "Median: 3.0\n",
      "75th %: 4.0\n",
      "max: 5\n",
      "--------------------------------------------------------------------------------\n",
      "Sample Size: 1000\n",
      "min: 1\n",
      "25th %: 2.0\n",
      "Median: 3.0\n",
      "75th %: 4.0\n",
      "max: 5\n"
     ]
    }
   ],
   "source": [
    "five_num_summary(sample)\n",
    "print(\"-\"*80)\n",
    "five_num_summary(gen_sample)"
   ]
  },
  {
   "cell_type": "code",
   "execution_count": null,
   "metadata": {},
   "outputs": [],
   "source": []
  }
 ],
 "metadata": {
  "kernelspec": {
   "display_name": "Python 3",
   "language": "python",
   "name": "python3"
  },
  "language_info": {
   "codemirror_mode": {
    "name": "ipython",
    "version": 3
   },
   "file_extension": ".py",
   "mimetype": "text/x-python",
   "name": "python",
   "nbconvert_exporter": "python",
   "pygments_lexer": "ipython3",
   "version": "3.7.1"
  }
 },
 "nbformat": 4,
 "nbformat_minor": 2
}
