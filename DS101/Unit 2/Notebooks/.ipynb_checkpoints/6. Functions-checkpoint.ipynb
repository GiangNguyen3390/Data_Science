{
 "cells": [
  {
   "cell_type": "markdown",
   "metadata": {},
   "source": [
    "# [Functions](https://www.learnpython.org/en/Functions)"
   ]
  },
  {
   "cell_type": "markdown",
   "metadata": {},
   "source": [
    "<br>"
   ]
  },
  {
   "cell_type": "code",
   "execution_count": 29,
   "metadata": {},
   "outputs": [],
   "source": [
    "def fahr_to_celsius(temp):\n",
    "    return round(((temp - 32) * (5/9)), 2)"
   ]
  },
  {
   "cell_type": "code",
   "execution_count": 32,
   "metadata": {},
   "outputs": [],
   "source": [
    "def print_temp(temp):\n",
    "    print(\"Today's High:\", temp)"
   ]
  },
  {
   "cell_type": "code",
   "execution_count": 35,
   "metadata": {
    "scrolled": true
   },
   "outputs": [
    {
     "name": "stdout",
     "output_type": "stream",
     "text": [
      "Today's High: -17.22\n",
      "Today's High: -16.67\n",
      "Today's High: -16.11\n",
      "Today's High: -15.56\n",
      "Today's High: -15.0\n",
      "Today's High: -14.44\n",
      "Today's High: -13.89\n",
      "Today's High: -13.33\n",
      "Today's High: -12.78\n",
      "Today's High: -12.22\n",
      "Today's High: -11.67\n",
      "Today's High: -11.11\n",
      "Today's High: -10.56\n",
      "Today's High: -10.0\n",
      "Today's High: -9.44\n",
      "Today's High: -8.89\n",
      "Today's High: -8.33\n",
      "Today's High: -7.78\n",
      "Today's High: -7.22\n",
      "Today's High: -6.67\n",
      "Today's High: -6.11\n",
      "Today's High: -5.56\n",
      "Today's High: -5.0\n",
      "Today's High: -4.44\n",
      "Today's High: -3.89\n",
      "Today's High: -3.33\n",
      "Today's High: -2.78\n",
      "Today's High: -2.22\n",
      "Today's High: -1.67\n",
      "Today's High: -1.11\n",
      "Today's High: -0.56\n",
      "Today's High: 0.0\n",
      "Today's High: 0.56\n",
      "Today's High: 1.11\n",
      "Today's High: 1.67\n",
      "Today's High: 2.22\n",
      "Today's High: 2.78\n",
      "Today's High: 3.33\n",
      "Today's High: 3.89\n",
      "Today's High: 4.44\n",
      "Today's High: 5.0\n",
      "Today's High: 5.56\n",
      "Today's High: 6.11\n",
      "Today's High: 6.67\n",
      "Today's High: 7.22\n",
      "Today's High: 7.78\n",
      "Today's High: 8.33\n",
      "Today's High: 8.89\n",
      "Today's High: 9.44\n",
      "Today's High: 10.0\n",
      "Today's High: 10.56\n",
      "Today's High: 11.11\n",
      "Today's High: 11.67\n",
      "Today's High: 12.22\n",
      "Today's High: 12.78\n",
      "Today's High: 13.33\n",
      "Today's High: 13.89\n",
      "Today's High: 14.44\n",
      "Today's High: 15.0\n",
      "Today's High: 15.56\n",
      "Today's High: 16.11\n",
      "Today's High: 16.67\n",
      "Today's High: 17.22\n",
      "Today's High: 17.78\n",
      "Today's High: 18.33\n",
      "Today's High: 18.89\n",
      "Today's High: 19.44\n",
      "Today's High: 20.0\n",
      "Today's High: 20.56\n",
      "Today's High: 21.11\n",
      "Today's High: 21.67\n",
      "Today's High: 22.22\n",
      "Today's High: 22.78\n",
      "Today's High: 23.33\n",
      "Today's High: 23.89\n",
      "Today's High: 24.44\n",
      "Today's High: 25.0\n",
      "Today's High: 25.56\n",
      "Today's High: 26.11\n",
      "Today's High: 26.67\n",
      "Today's High: 27.22\n",
      "Today's High: 27.78\n",
      "Today's High: 28.33\n",
      "Today's High: 28.89\n",
      "Today's High: 29.44\n",
      "Today's High: 30.0\n",
      "Today's High: 30.56\n",
      "Today's High: 31.11\n",
      "Today's High: 31.67\n",
      "Today's High: 32.22\n",
      "Today's High: 32.78\n",
      "Today's High: 33.33\n",
      "Today's High: 33.89\n",
      "Today's High: 34.44\n",
      "Today's High: 35.0\n",
      "Today's High: 35.56\n",
      "Today's High: 36.11\n",
      "Today's High: 36.67\n",
      "Today's High: 37.22\n",
      "Today's High: 37.78\n",
      "Today's High: 38.33\n",
      "Today's High: 38.89\n",
      "Today's High: 39.44\n",
      "Today's High: 40.0\n",
      "Today's High: 40.56\n",
      "Today's High: 41.11\n",
      "Today's High: 41.67\n",
      "Today's High: 42.22\n",
      "Today's High: 42.78\n",
      "Today's High: 43.33\n",
      "Today's High: 43.89\n",
      "Today's High: 44.44\n",
      "Today's High: 45.0\n",
      "Today's High: 45.56\n",
      "Today's High: 46.11\n",
      "Today's High: 46.67\n",
      "Today's High: 47.22\n",
      "Today's High: 47.78\n",
      "Today's High: 48.33\n",
      "Today's High: 48.89\n",
      "Today's High: 49.44\n",
      "Today's High: 50.0\n",
      "Today's High: 50.56\n",
      "Today's High: 51.11\n",
      "Today's High: 51.67\n",
      "Today's High: 52.22\n",
      "Today's High: 52.78\n",
      "Today's High: 53.33\n",
      "Today's High: 53.89\n",
      "Today's High: 54.44\n",
      "Today's High: 55.0\n",
      "Today's High: 55.56\n",
      "Today's High: 56.11\n",
      "Today's High: 56.67\n",
      "Today's High: 57.22\n",
      "Today's High: 57.78\n",
      "Today's High: 58.33\n",
      "Today's High: 58.89\n",
      "Today's High: 59.44\n",
      "Today's High: 60.0\n",
      "Today's High: 60.56\n",
      "Today's High: 61.11\n",
      "Today's High: 61.67\n",
      "Today's High: 62.22\n",
      "Today's High: 62.78\n",
      "Today's High: 63.33\n",
      "Today's High: 63.89\n",
      "Today's High: 64.44\n",
      "Today's High: 65.0\n",
      "Today's High: 65.56\n",
      "Today's High: 66.11\n",
      "Today's High: 66.67\n",
      "Today's High: 67.22\n",
      "Today's High: 67.78\n",
      "Today's High: 68.33\n",
      "Today's High: 68.89\n",
      "Today's High: 69.44\n",
      "Today's High: 70.0\n",
      "Today's High: 70.56\n",
      "Today's High: 71.11\n",
      "Today's High: 71.67\n",
      "Today's High: 72.22\n",
      "Today's High: 72.78\n",
      "Today's High: 73.33\n",
      "Today's High: 73.89\n",
      "Today's High: 74.44\n",
      "Today's High: 75.0\n",
      "Today's High: 75.56\n",
      "Today's High: 76.11\n",
      "Today's High: 76.67\n",
      "Today's High: 77.22\n",
      "Today's High: 77.78\n",
      "Today's High: 78.33\n",
      "Today's High: 78.89\n",
      "Today's High: 79.44\n",
      "Today's High: 80.0\n",
      "Today's High: 80.56\n",
      "Today's High: 81.11\n",
      "Today's High: 81.67\n",
      "Today's High: 82.22\n",
      "Today's High: 82.78\n",
      "Today's High: 83.33\n",
      "Today's High: 83.89\n",
      "Today's High: 84.44\n",
      "Today's High: 85.0\n",
      "Today's High: 85.56\n",
      "Today's High: 86.11\n",
      "Today's High: 86.67\n",
      "Today's High: 87.22\n",
      "Today's High: 87.78\n",
      "Today's High: 88.33\n",
      "Today's High: 88.89\n",
      "Today's High: 89.44\n",
      "Today's High: 90.0\n",
      "Today's High: 90.56\n",
      "Today's High: 91.11\n",
      "Today's High: 91.67\n",
      "Today's High: 92.22\n",
      "Today's High: 92.78\n",
      "Today's High: 93.33\n",
      "Today's High: 93.89\n",
      "Today's High: 94.44\n",
      "Today's High: 95.0\n",
      "Today's High: 95.56\n",
      "Today's High: 96.11\n",
      "Today's High: 96.67\n",
      "Today's High: 97.22\n",
      "Today's High: 97.78\n",
      "Today's High: 98.33\n",
      "Today's High: 98.89\n",
      "Today's High: 99.44\n",
      "Today's High: 100.0\n",
      "Today's High: 100.56\n",
      "Today's High: 101.11\n",
      "Today's High: 101.67\n",
      "Today's High: 102.22\n",
      "Today's High: 102.78\n",
      "Today's High: 103.33\n",
      "Today's High: 103.89\n",
      "Today's High: 104.44\n",
      "Today's High: 105.0\n",
      "Today's High: 105.56\n",
      "Today's High: 106.11\n",
      "Today's High: 106.67\n",
      "Today's High: 107.22\n",
      "Today's High: 107.78\n",
      "Today's High: 108.33\n",
      "Today's High: 108.89\n",
      "Today's High: 109.44\n",
      "Today's High: 110.0\n",
      "Today's High: 110.56\n",
      "Today's High: 111.11\n",
      "Today's High: 111.67\n",
      "Today's High: 112.22\n",
      "Today's High: 112.78\n",
      "Today's High: 113.33\n",
      "Today's High: 113.89\n",
      "Today's High: 114.44\n",
      "Today's High: 115.0\n",
      "Today's High: 115.56\n",
      "Today's High: 116.11\n",
      "Today's High: 116.67\n",
      "Today's High: 117.22\n",
      "Today's High: 117.78\n",
      "Today's High: 118.33\n",
      "Today's High: 118.89\n",
      "Today's High: 119.44\n",
      "Today's High: 120.0\n",
      "Today's High: 120.56\n",
      "Today's High: 121.11\n",
      "Today's High: 121.67\n",
      "Today's High: 122.22\n",
      "Today's High: 122.78\n",
      "Today's High: 123.33\n",
      "Today's High: 123.89\n",
      "Today's High: 124.44\n",
      "Today's High: 125.0\n",
      "Today's High: 125.56\n",
      "Today's High: 126.11\n",
      "Today's High: 126.67\n",
      "Today's High: 127.22\n",
      "Today's High: 127.78\n",
      "Today's High: 128.33\n",
      "Today's High: 128.89\n",
      "Today's High: 129.44\n",
      "Today's High: 130.0\n",
      "Today's High: 130.56\n",
      "Today's High: 131.11\n",
      "Today's High: 131.67\n",
      "Today's High: 132.22\n",
      "Today's High: 132.78\n",
      "Today's High: 133.33\n",
      "Today's High: 133.89\n",
      "Today's High: 134.44\n",
      "Today's High: 135.0\n",
      "Today's High: 135.56\n",
      "Today's High: 136.11\n",
      "Today's High: 136.67\n",
      "Today's High: 137.22\n",
      "Today's High: 137.78\n",
      "Today's High: 138.33\n",
      "Today's High: 138.89\n",
      "Today's High: 139.44\n",
      "Today's High: 140.0\n",
      "Today's High: 140.56\n",
      "Today's High: 141.11\n",
      "Today's High: 141.67\n",
      "Today's High: 142.22\n",
      "Today's High: 142.78\n",
      "Today's High: 143.33\n",
      "Today's High: 143.89\n",
      "Today's High: 144.44\n",
      "Today's High: 145.0\n",
      "Today's High: 145.56\n",
      "Today's High: 146.11\n",
      "Today's High: 146.67\n",
      "Today's High: 147.22\n",
      "Today's High: 147.78\n",
      "Today's High: 148.33\n",
      "Today's High: 148.89\n",
      "Today's High: 149.44\n",
      "Today's High: 150.0\n",
      "Today's High: 150.56\n",
      "Today's High: 151.11\n",
      "Today's High: 151.67\n",
      "Today's High: 152.22\n",
      "Today's High: 152.78\n",
      "Today's High: 153.33\n",
      "Today's High: 153.89\n",
      "Today's High: 154.44\n",
      "Today's High: 155.0\n",
      "Today's High: 155.56\n",
      "Today's High: 156.11\n",
      "Today's High: 156.67\n",
      "Today's High: 157.22\n",
      "Today's High: 157.78\n",
      "Today's High: 158.33\n",
      "Today's High: 158.89\n",
      "Today's High: 159.44\n",
      "Today's High: 160.0\n",
      "Today's High: 160.56\n",
      "Today's High: 161.11\n",
      "Today's High: 161.67\n",
      "Today's High: 162.22\n",
      "Today's High: 162.78\n",
      "Today's High: 163.33\n",
      "Today's High: 163.89\n",
      "Today's High: 164.44\n",
      "Today's High: 165.0\n",
      "Today's High: 165.56\n",
      "Today's High: 166.11\n",
      "Today's High: 166.67\n",
      "Today's High: 167.22\n",
      "Today's High: 167.78\n",
      "Today's High: 168.33\n",
      "Today's High: 168.89\n",
      "Today's High: 169.44\n",
      "Today's High: 170.0\n",
      "Today's High: 170.56\n",
      "Today's High: 171.11\n",
      "Today's High: 171.67\n",
      "Today's High: 172.22\n",
      "Today's High: 172.78\n",
      "Today's High: 173.33\n",
      "Today's High: 173.89\n",
      "Today's High: 174.44\n",
      "Today's High: 175.0\n",
      "Today's High: 175.56\n",
      "Today's High: 176.11\n",
      "Today's High: 176.67\n",
      "Today's High: 177.22\n",
      "Today's High: 177.78\n",
      "Today's High: 178.33\n",
      "Today's High: 178.89\n",
      "Today's High: 179.44\n",
      "Today's High: 180.0\n",
      "Today's High: 180.56\n",
      "Today's High: 181.11\n",
      "Today's High: 181.67\n",
      "Today's High: 182.22\n",
      "Today's High: 182.78\n",
      "Today's High: 183.33\n",
      "Today's High: 183.89\n",
      "Today's High: 184.44\n",
      "Today's High: 185.0\n",
      "Today's High: 185.56\n",
      "Today's High: 186.11\n",
      "Today's High: 186.67\n",
      "Today's High: 187.22\n",
      "Today's High: 187.78\n",
      "Today's High: 188.33\n",
      "Today's High: 188.89\n",
      "Today's High: 189.44\n",
      "Today's High: 190.0\n",
      "Today's High: 190.56\n",
      "Today's High: 191.11\n",
      "Today's High: 191.67\n",
      "Today's High: 192.22\n",
      "Today's High: 192.78\n",
      "Today's High: 193.33\n",
      "Today's High: 193.89\n",
      "Today's High: 194.44\n",
      "Today's High: 195.0\n",
      "Today's High: 195.56\n",
      "Today's High: 196.11\n",
      "Today's High: 196.67\n",
      "Today's High: 197.22\n",
      "Today's High: 197.78\n",
      "Today's High: 198.33\n",
      "Today's High: 198.89\n",
      "Today's High: 199.44\n",
      "Today's High: 200.0\n",
      "Today's High: 200.56\n",
      "Today's High: 201.11\n",
      "Today's High: 201.67\n",
      "Today's High: 202.22\n",
      "Today's High: 202.78\n",
      "Today's High: 203.33\n",
      "Today's High: 203.89\n",
      "Today's High: 204.44\n",
      "Today's High: 205.0\n",
      "Today's High: 205.56\n",
      "Today's High: 206.11\n",
      "Today's High: 206.67\n",
      "Today's High: 207.22\n",
      "Today's High: 207.78\n",
      "Today's High: 208.33\n",
      "Today's High: 208.89\n",
      "Today's High: 209.44\n",
      "Today's High: 210.0\n",
      "Today's High: 210.56\n",
      "Today's High: 211.11\n",
      "Today's High: 211.67\n",
      "Today's High: 212.22\n",
      "Today's High: 212.78\n",
      "Today's High: 213.33\n",
      "Today's High: 213.89\n",
      "Today's High: 214.44\n",
      "Today's High: 215.0\n",
      "Today's High: 215.56\n",
      "Today's High: 216.11\n",
      "Today's High: 216.67\n",
      "Today's High: 217.22\n",
      "Today's High: 217.78\n",
      "Today's High: 218.33\n",
      "Today's High: 218.89\n",
      "Today's High: 219.44\n",
      "Today's High: 220.0\n",
      "Today's High: 220.56\n",
      "Today's High: 221.11\n",
      "Today's High: 221.67\n",
      "Today's High: 222.22\n",
      "Today's High: 222.78\n",
      "Today's High: 223.33\n",
      "Today's High: 223.89\n",
      "Today's High: 224.44\n",
      "Today's High: 225.0\n",
      "Today's High: 225.56\n",
      "Today's High: 226.11\n",
      "Today's High: 226.67\n",
      "Today's High: 227.22\n",
      "Today's High: 227.78\n",
      "Today's High: 228.33\n",
      "Today's High: 228.89\n",
      "Today's High: 229.44\n",
      "Today's High: 230.0\n",
      "Today's High: 230.56\n",
      "Today's High: 231.11\n",
      "Today's High: 231.67\n",
      "Today's High: 232.22\n",
      "Today's High: 232.78\n",
      "Today's High: 233.33\n",
      "Today's High: 233.89\n",
      "Today's High: 234.44\n",
      "Today's High: 235.0\n",
      "Today's High: 235.56\n",
      "Today's High: 236.11\n",
      "Today's High: 236.67\n",
      "Today's High: 237.22\n",
      "Today's High: 237.78\n",
      "Today's High: 238.33\n",
      "Today's High: 238.89\n",
      "Today's High: 239.44\n",
      "Today's High: 240.0\n",
      "Today's High: 240.56\n",
      "Today's High: 241.11\n",
      "Today's High: 241.67\n",
      "Today's High: 242.22\n",
      "Today's High: 242.78\n",
      "Today's High: 243.33\n",
      "Today's High: 243.89\n",
      "Today's High: 244.44\n",
      "Today's High: 245.0\n",
      "Today's High: 245.56\n",
      "Today's High: 246.11\n",
      "Today's High: 246.67\n",
      "Today's High: 247.22\n",
      "Today's High: 247.78\n",
      "Today's High: 248.33\n",
      "Today's High: 248.89\n",
      "Today's High: 249.44\n",
      "Today's High: 250.0\n",
      "Today's High: 250.56\n",
      "Today's High: 251.11\n",
      "Today's High: 251.67\n",
      "Today's High: 252.22\n",
      "Today's High: 252.78\n",
      "Today's High: 253.33\n",
      "Today's High: 253.89\n",
      "Today's High: 254.44\n",
      "Today's High: 255.0\n",
      "Today's High: 255.56\n",
      "Today's High: 256.11\n",
      "Today's High: 256.67\n",
      "Today's High: 257.22\n",
      "Today's High: 257.78\n",
      "Today's High: 258.33\n",
      "Today's High: 258.89\n",
      "Today's High: 259.44\n",
      "Today's High: 260.0\n",
      "Today's High: 260.56\n",
      "Today's High: 261.11\n",
      "Today's High: 261.67\n",
      "Today's High: 262.22\n",
      "Today's High: 262.78\n",
      "Today's High: 263.33\n",
      "Today's High: 263.89\n",
      "Today's High: 264.44\n",
      "Today's High: 265.0\n",
      "Today's High: 265.56\n",
      "Today's High: 266.11\n",
      "Today's High: 266.67\n",
      "Today's High: 267.22\n",
      "Today's High: 267.78\n",
      "Today's High: 268.33\n",
      "Today's High: 268.89\n",
      "Today's High: 269.44\n",
      "Today's High: 270.0\n",
      "Today's High: 270.56\n",
      "Today's High: 271.11\n",
      "Today's High: 271.67\n",
      "Today's High: 272.22\n",
      "Today's High: 272.78\n",
      "Today's High: 273.33\n",
      "Today's High: 273.89\n",
      "Today's High: 274.44\n",
      "Today's High: 275.0\n",
      "Today's High: 275.56\n",
      "Today's High: 276.11\n",
      "Today's High: 276.67\n",
      "Today's High: 277.22\n",
      "Today's High: 277.78\n",
      "Today's High: 278.33\n",
      "Today's High: 278.89\n",
      "Today's High: 279.44\n",
      "Today's High: 280.0\n",
      "Today's High: 280.56\n",
      "Today's High: 281.11\n",
      "Today's High: 281.67\n",
      "Today's High: 282.22\n",
      "Today's High: 282.78\n",
      "Today's High: 283.33\n",
      "Today's High: 283.89\n",
      "Today's High: 284.44\n",
      "Today's High: 285.0\n",
      "Today's High: 285.56\n",
      "Today's High: 286.11\n",
      "Today's High: 286.67\n",
      "Today's High: 287.22\n",
      "Today's High: 287.78\n",
      "Today's High: 288.33\n",
      "Today's High: 288.89\n",
      "Today's High: 289.44\n",
      "Today's High: 290.0\n",
      "Today's High: 290.56\n",
      "Today's High: 291.11\n",
      "Today's High: 291.67\n",
      "Today's High: 292.22\n",
      "Today's High: 292.78\n",
      "Today's High: 293.33\n",
      "Today's High: 293.89\n",
      "Today's High: 294.44\n",
      "Today's High: 295.0\n",
      "Today's High: 295.56\n",
      "Today's High: 296.11\n",
      "Today's High: 296.67\n",
      "Today's High: 297.22\n",
      "Today's High: 297.78\n",
      "Today's High: 298.33\n",
      "Today's High: 298.89\n",
      "Today's High: 299.44\n",
      "Today's High: 300.0\n",
      "Today's High: 300.56\n",
      "Today's High: 301.11\n",
      "Today's High: 301.67\n",
      "Today's High: 302.22\n",
      "Today's High: 302.78\n",
      "Today's High: 303.33\n",
      "Today's High: 303.89\n",
      "Today's High: 304.44\n",
      "Today's High: 305.0\n",
      "Today's High: 305.56\n",
      "Today's High: 306.11\n",
      "Today's High: 306.67\n",
      "Today's High: 307.22\n",
      "Today's High: 307.78\n",
      "Today's High: 308.33\n",
      "Today's High: 308.89\n",
      "Today's High: 309.44\n",
      "Today's High: 310.0\n",
      "Today's High: 310.56\n",
      "Today's High: 311.11\n",
      "Today's High: 311.67\n",
      "Today's High: 312.22\n",
      "Today's High: 312.78\n",
      "Today's High: 313.33\n",
      "Today's High: 313.89\n",
      "Today's High: 314.44\n",
      "Today's High: 315.0\n",
      "Today's High: 315.56\n",
      "Today's High: 316.11\n",
      "Today's High: 316.67\n",
      "Today's High: 317.22\n",
      "Today's High: 317.78\n",
      "Today's High: 318.33\n",
      "Today's High: 318.89\n",
      "Today's High: 319.44\n",
      "Today's High: 320.0\n"
     ]
    },
    {
     "name": "stdout",
     "output_type": "stream",
     "text": [
      "Today's High: 320.56\n",
      "Today's High: 321.11\n",
      "Today's High: 321.67\n",
      "Today's High: 322.22\n",
      "Today's High: 322.78\n",
      "Today's High: 323.33\n",
      "Today's High: 323.89\n",
      "Today's High: 324.44\n",
      "Today's High: 325.0\n",
      "Today's High: 325.56\n",
      "Today's High: 326.11\n",
      "Today's High: 326.67\n",
      "Today's High: 327.22\n",
      "Today's High: 327.78\n",
      "Today's High: 328.33\n",
      "Today's High: 328.89\n",
      "Today's High: 329.44\n",
      "Today's High: 330.0\n",
      "Today's High: 330.56\n",
      "Today's High: 331.11\n",
      "Today's High: 331.67\n",
      "Today's High: 332.22\n",
      "Today's High: 332.78\n",
      "Today's High: 333.33\n",
      "Today's High: 333.89\n",
      "Today's High: 334.44\n",
      "Today's High: 335.0\n",
      "Today's High: 335.56\n",
      "Today's High: 336.11\n",
      "Today's High: 336.67\n",
      "Today's High: 337.22\n",
      "Today's High: 337.78\n",
      "Today's High: 338.33\n",
      "Today's High: 338.89\n",
      "Today's High: 339.44\n",
      "Today's High: 340.0\n",
      "Today's High: 340.56\n",
      "Today's High: 341.11\n",
      "Today's High: 341.67\n",
      "Today's High: 342.22\n",
      "Today's High: 342.78\n",
      "Today's High: 343.33\n",
      "Today's High: 343.89\n",
      "Today's High: 344.44\n",
      "Today's High: 345.0\n",
      "Today's High: 345.56\n",
      "Today's High: 346.11\n",
      "Today's High: 346.67\n",
      "Today's High: 347.22\n",
      "Today's High: 347.78\n",
      "Today's High: 348.33\n",
      "Today's High: 348.89\n",
      "Today's High: 349.44\n",
      "Today's High: 350.0\n",
      "Today's High: 350.56\n",
      "Today's High: 351.11\n",
      "Today's High: 351.67\n",
      "Today's High: 352.22\n",
      "Today's High: 352.78\n",
      "Today's High: 353.33\n",
      "Today's High: 353.89\n",
      "Today's High: 354.44\n",
      "Today's High: 355.0\n",
      "Today's High: 355.56\n",
      "Today's High: 356.11\n",
      "Today's High: 356.67\n",
      "Today's High: 357.22\n",
      "Today's High: 357.78\n",
      "Today's High: 358.33\n",
      "Today's High: 358.89\n",
      "Today's High: 359.44\n",
      "Today's High: 360.0\n",
      "Today's High: 360.56\n",
      "Today's High: 361.11\n",
      "Today's High: 361.67\n",
      "Today's High: 362.22\n",
      "Today's High: 362.78\n",
      "Today's High: 363.33\n",
      "Today's High: 363.89\n",
      "Today's High: 364.44\n",
      "Today's High: 365.0\n",
      "Today's High: 365.56\n",
      "Today's High: 366.11\n",
      "Today's High: 366.67\n",
      "Today's High: 367.22\n",
      "Today's High: 367.78\n",
      "Today's High: 368.33\n",
      "Today's High: 368.89\n",
      "Today's High: 369.44\n",
      "Today's High: 370.0\n",
      "Today's High: 370.56\n",
      "Today's High: 371.11\n",
      "Today's High: 371.67\n",
      "Today's High: 372.22\n",
      "Today's High: 372.78\n",
      "Today's High: 373.33\n",
      "Today's High: 373.89\n",
      "Today's High: 374.44\n",
      "Today's High: 375.0\n",
      "Today's High: 375.56\n",
      "Today's High: 376.11\n",
      "Today's High: 376.67\n",
      "Today's High: 377.22\n",
      "Today's High: 377.78\n",
      "Today's High: 378.33\n",
      "Today's High: 378.89\n",
      "Today's High: 379.44\n",
      "Today's High: 380.0\n",
      "Today's High: 380.56\n",
      "Today's High: 381.11\n",
      "Today's High: 381.67\n",
      "Today's High: 382.22\n",
      "Today's High: 382.78\n",
      "Today's High: 383.33\n",
      "Today's High: 383.89\n",
      "Today's High: 384.44\n",
      "Today's High: 385.0\n",
      "Today's High: 385.56\n",
      "Today's High: 386.11\n",
      "Today's High: 386.67\n",
      "Today's High: 387.22\n",
      "Today's High: 387.78\n",
      "Today's High: 388.33\n",
      "Today's High: 388.89\n",
      "Today's High: 389.44\n",
      "Today's High: 390.0\n",
      "Today's High: 390.56\n",
      "Today's High: 391.11\n",
      "Today's High: 391.67\n",
      "Today's High: 392.22\n",
      "Today's High: 392.78\n",
      "Today's High: 393.33\n",
      "Today's High: 393.89\n",
      "Today's High: 394.44\n",
      "Today's High: 395.0\n",
      "Today's High: 395.56\n",
      "Today's High: 396.11\n",
      "Today's High: 396.67\n",
      "Today's High: 397.22\n",
      "Today's High: 397.78\n",
      "Today's High: 398.33\n",
      "Today's High: 398.89\n",
      "Today's High: 399.44\n",
      "Today's High: 400.0\n",
      "Today's High: 400.56\n",
      "Today's High: 401.11\n",
      "Today's High: 401.67\n",
      "Today's High: 402.22\n",
      "Today's High: 402.78\n",
      "Today's High: 403.33\n",
      "Today's High: 403.89\n",
      "Today's High: 404.44\n",
      "Today's High: 405.0\n",
      "Today's High: 405.56\n",
      "Today's High: 406.11\n",
      "Today's High: 406.67\n",
      "Today's High: 407.22\n",
      "Today's High: 407.78\n",
      "Today's High: 408.33\n",
      "Today's High: 408.89\n",
      "Today's High: 409.44\n",
      "Today's High: 410.0\n",
      "Today's High: 410.56\n",
      "Today's High: 411.11\n",
      "Today's High: 411.67\n",
      "Today's High: 412.22\n",
      "Today's High: 412.78\n",
      "Today's High: 413.33\n",
      "Today's High: 413.89\n",
      "Today's High: 414.44\n",
      "Today's High: 415.0\n",
      "Today's High: 415.56\n",
      "Today's High: 416.11\n",
      "Today's High: 416.67\n",
      "Today's High: 417.22\n",
      "Today's High: 417.78\n",
      "Today's High: 418.33\n",
      "Today's High: 418.89\n",
      "Today's High: 419.44\n",
      "Today's High: 420.0\n",
      "Today's High: 420.56\n",
      "Today's High: 421.11\n",
      "Today's High: 421.67\n",
      "Today's High: 422.22\n",
      "Today's High: 422.78\n",
      "Today's High: 423.33\n",
      "Today's High: 423.89\n",
      "Today's High: 424.44\n",
      "Today's High: 425.0\n",
      "Today's High: 425.56\n",
      "Today's High: 426.11\n",
      "Today's High: 426.67\n",
      "Today's High: 427.22\n",
      "Today's High: 427.78\n",
      "Today's High: 428.33\n",
      "Today's High: 428.89\n",
      "Today's High: 429.44\n",
      "Today's High: 430.0\n",
      "Today's High: 430.56\n",
      "Today's High: 431.11\n",
      "Today's High: 431.67\n",
      "Today's High: 432.22\n",
      "Today's High: 432.78\n",
      "Today's High: 433.33\n",
      "Today's High: 433.89\n",
      "Today's High: 434.44\n",
      "Today's High: 435.0\n",
      "Today's High: 435.56\n",
      "Today's High: 436.11\n",
      "Today's High: 436.67\n",
      "Today's High: 437.22\n",
      "Today's High: 437.78\n",
      "Today's High: 438.33\n",
      "Today's High: 438.89\n",
      "Today's High: 439.44\n",
      "Today's High: 440.0\n",
      "Today's High: 440.56\n",
      "Today's High: 441.11\n",
      "Today's High: 441.67\n",
      "Today's High: 442.22\n",
      "Today's High: 442.78\n",
      "Today's High: 443.33\n",
      "Today's High: 443.89\n",
      "Today's High: 444.44\n",
      "Today's High: 445.0\n",
      "Today's High: 445.56\n",
      "Today's High: 446.11\n",
      "Today's High: 446.67\n",
      "Today's High: 447.22\n",
      "Today's High: 447.78\n",
      "Today's High: 448.33\n",
      "Today's High: 448.89\n",
      "Today's High: 449.44\n",
      "Today's High: 450.0\n",
      "Today's High: 450.56\n",
      "Today's High: 451.11\n",
      "Today's High: 451.67\n",
      "Today's High: 452.22\n",
      "Today's High: 452.78\n",
      "Today's High: 453.33\n",
      "Today's High: 453.89\n",
      "Today's High: 454.44\n",
      "Today's High: 455.0\n",
      "Today's High: 455.56\n",
      "Today's High: 456.11\n",
      "Today's High: 456.67\n",
      "Today's High: 457.22\n",
      "Today's High: 457.78\n",
      "Today's High: 458.33\n",
      "Today's High: 458.89\n",
      "Today's High: 459.44\n",
      "Today's High: 460.0\n",
      "Today's High: 460.56\n",
      "Today's High: 461.11\n",
      "Today's High: 461.67\n",
      "Today's High: 462.22\n",
      "Today's High: 462.78\n",
      "Today's High: 463.33\n",
      "Today's High: 463.89\n",
      "Today's High: 464.44\n",
      "Today's High: 465.0\n",
      "Today's High: 465.56\n",
      "Today's High: 466.11\n",
      "Today's High: 466.67\n",
      "Today's High: 467.22\n",
      "Today's High: 467.78\n",
      "Today's High: 468.33\n",
      "Today's High: 468.89\n",
      "Today's High: 469.44\n",
      "Today's High: 470.0\n",
      "Today's High: 470.56\n",
      "Today's High: 471.11\n",
      "Today's High: 471.67\n",
      "Today's High: 472.22\n",
      "Today's High: 472.78\n",
      "Today's High: 473.33\n",
      "Today's High: 473.89\n",
      "Today's High: 474.44\n",
      "Today's High: 475.0\n",
      "Today's High: 475.56\n",
      "Today's High: 476.11\n",
      "Today's High: 476.67\n",
      "Today's High: 477.22\n",
      "Today's High: 477.78\n",
      "Today's High: 478.33\n",
      "Today's High: 478.89\n",
      "Today's High: 479.44\n",
      "Today's High: 480.0\n",
      "Today's High: 480.56\n",
      "Today's High: 481.11\n",
      "Today's High: 481.67\n",
      "Today's High: 482.22\n",
      "Today's High: 482.78\n",
      "Today's High: 483.33\n",
      "Today's High: 483.89\n",
      "Today's High: 484.44\n",
      "Today's High: 485.0\n",
      "Today's High: 485.56\n",
      "Today's High: 486.11\n",
      "Today's High: 486.67\n",
      "Today's High: 487.22\n",
      "Today's High: 487.78\n",
      "Today's High: 488.33\n",
      "Today's High: 488.89\n",
      "Today's High: 489.44\n",
      "Today's High: 490.0\n",
      "Today's High: 490.56\n",
      "Today's High: 491.11\n",
      "Today's High: 491.67\n",
      "Today's High: 492.22\n",
      "Today's High: 492.78\n",
      "Today's High: 493.33\n",
      "Today's High: 493.89\n",
      "Today's High: 494.44\n",
      "Today's High: 495.0\n",
      "Today's High: 495.56\n",
      "Today's High: 496.11\n",
      "Today's High: 496.67\n",
      "Today's High: 497.22\n",
      "Today's High: 497.78\n",
      "Today's High: 498.33\n",
      "Today's High: 498.89\n",
      "Today's High: 499.44\n",
      "Today's High: 500.0\n",
      "Today's High: 500.56\n",
      "Today's High: 501.11\n",
      "Today's High: 501.67\n",
      "Today's High: 502.22\n",
      "Today's High: 502.78\n",
      "Today's High: 503.33\n",
      "Today's High: 503.89\n",
      "Today's High: 504.44\n",
      "Today's High: 505.0\n",
      "Today's High: 505.56\n",
      "Today's High: 506.11\n",
      "Today's High: 506.67\n",
      "Today's High: 507.22\n",
      "Today's High: 507.78\n",
      "Today's High: 508.33\n",
      "Today's High: 508.89\n",
      "Today's High: 509.44\n",
      "Today's High: 510.0\n",
      "Today's High: 510.56\n",
      "Today's High: 511.11\n",
      "Today's High: 511.67\n",
      "Today's High: 512.22\n",
      "Today's High: 512.78\n",
      "Today's High: 513.33\n",
      "Today's High: 513.89\n",
      "Today's High: 514.44\n",
      "Today's High: 515.0\n",
      "Today's High: 515.56\n",
      "Today's High: 516.11\n",
      "Today's High: 516.67\n",
      "Today's High: 517.22\n",
      "Today's High: 517.78\n",
      "Today's High: 518.33\n",
      "Today's High: 518.89\n",
      "Today's High: 519.44\n",
      "Today's High: 520.0\n",
      "Today's High: 520.56\n",
      "Today's High: 521.11\n",
      "Today's High: 521.67\n",
      "Today's High: 522.22\n",
      "Today's High: 522.78\n",
      "Today's High: 523.33\n",
      "Today's High: 523.89\n",
      "Today's High: 524.44\n",
      "Today's High: 525.0\n",
      "Today's High: 525.56\n",
      "Today's High: 526.11\n",
      "Today's High: 526.67\n",
      "Today's High: 527.22\n",
      "Today's High: 527.78\n",
      "Today's High: 528.33\n",
      "Today's High: 528.89\n",
      "Today's High: 529.44\n",
      "Today's High: 530.0\n",
      "Today's High: 530.56\n",
      "Today's High: 531.11\n",
      "Today's High: 531.67\n",
      "Today's High: 532.22\n",
      "Today's High: 532.78\n",
      "Today's High: 533.33\n",
      "Today's High: 533.89\n",
      "Today's High: 534.44\n",
      "Today's High: 535.0\n",
      "Today's High: 535.56\n",
      "Today's High: 536.11\n",
      "Today's High: 536.67\n",
      "Today's High: 537.22\n"
     ]
    }
   ],
   "source": [
    "temps = list(range(1,1000))\n",
    "for temp in temps:\n",
    "    celsius = fahr_to_celsius(temp)\n",
    "    print_temp(celsius)"
   ]
  },
  {
   "cell_type": "markdown",
   "metadata": {},
   "source": [
    "<img width=\"600px\" src=\"https://swcarpentry.github.io/python-novice-inflammation/fig/python-function.svg\">"
   ]
  },
  {
   "cell_type": "markdown",
   "metadata": {},
   "source": [
    "***\n",
    "<br>\n",
    "<br>"
   ]
  },
  {
   "cell_type": "markdown",
   "metadata": {},
   "source": [
    "## Functions WITHOUT Parameters/Arguments"
   ]
  },
  {
   "cell_type": "markdown",
   "metadata": {},
   "source": [
    "#### Define a basic function."
   ]
  },
  {
   "cell_type": "markdown",
   "metadata": {
    "collapsed": true
   },
   "source": [
    "```python\n",
    "def my_first_function():\n",
    "    print('Hello world!')```"
   ]
  },
  {
   "cell_type": "code",
   "execution_count": 9,
   "metadata": {},
   "outputs": [],
   "source": [
    "def my_first_function():\n",
    "    print('Hello world!')"
   ]
  },
  {
   "cell_type": "code",
   "execution_count": 11,
   "metadata": {},
   "outputs": [
    {
     "name": "stdout",
     "output_type": "stream",
     "text": [
      "Hello world!\n"
     ]
    }
   ],
   "source": [
    "my_first_function()"
   ]
  },
  {
   "cell_type": "markdown",
   "metadata": {},
   "source": [
    "#### Check it's type"
   ]
  },
  {
   "cell_type": "markdown",
   "metadata": {},
   "source": [
    "```python\n",
    "print('type: {}'.format(my_first_function))```"
   ]
  },
  {
   "cell_type": "code",
   "execution_count": null,
   "metadata": {},
   "outputs": [],
   "source": []
  },
  {
   "cell_type": "markdown",
   "metadata": {},
   "source": [
    "#### CALL the function with `()`."
   ]
  },
  {
   "cell_type": "markdown",
   "metadata": {},
   "source": [
    "```python\n",
    "my_first_function()```"
   ]
  },
  {
   "cell_type": "code",
   "execution_count": null,
   "metadata": {},
   "outputs": [],
   "source": []
  },
  {
   "cell_type": "markdown",
   "metadata": {},
   "source": [
    "***\n",
    "<br>\n",
    "<br>"
   ]
  },
  {
   "cell_type": "markdown",
   "metadata": {},
   "source": [
    "## Functions WITH Parameters/Arguments"
   ]
  },
  {
   "cell_type": "markdown",
   "metadata": {},
   "source": [
    "<img width=\"1000px\" src=\"https://i.imgur.com/wPSr4pQ.png\">"
   ]
  },
  {
   "cell_type": "markdown",
   "metadata": {},
   "source": [
    "#### Define a Function w/ parameters \"first\" and \"last\""
   ]
  },
  {
   "cell_type": "markdown",
   "metadata": {
    "collapsed": true
   },
   "source": [
    "```python\n",
    "def secret_agent_greeting(first, last):\n",
    "    print('Call me {b}, {a} {b}.'.format(a = first, b = last))```"
   ]
  },
  {
   "cell_type": "code",
   "execution_count": 24,
   "metadata": {},
   "outputs": [],
   "source": [
    "def secret_agent_greeting(first, last):\n",
    "    print('Call me {b}, {a} {b}.'.format(a = first, b = last))"
   ]
  },
  {
   "cell_type": "markdown",
   "metadata": {},
   "source": [
    "#### Check it's type"
   ]
  },
  {
   "cell_type": "markdown",
   "metadata": {},
   "source": [
    "```python\n",
    "print('type: {}'.format(my_first_function))```"
   ]
  },
  {
   "cell_type": "code",
   "execution_count": null,
   "metadata": {},
   "outputs": [],
   "source": []
  },
  {
   "cell_type": "markdown",
   "metadata": {},
   "source": [
    "#### Call function with `()` and passing in arguments.    "
   ]
  },
  {
   "cell_type": "markdown",
   "metadata": {
    "collapsed": true
   },
   "source": [
    "```python\n",
    "secret_agent_greeting('James','Bond')\n",
    "secret_agent_greeting('John', 'Doe')\n",
    "```"
   ]
  },
  {
   "cell_type": "code",
   "execution_count": null,
   "metadata": {},
   "outputs": [],
   "source": []
  },
  {
   "cell_type": "markdown",
   "metadata": {},
   "source": [
    "***\n",
    "<br>\n",
    "<br>"
   ]
  },
  {
   "cell_type": "markdown",
   "metadata": {},
   "source": [
    "## The `return` Statement."
   ]
  },
  {
   "cell_type": "markdown",
   "metadata": {},
   "source": [
    "#### Define a Function with a return value"
   ]
  },
  {
   "cell_type": "markdown",
   "metadata": {
    "collapsed": true
   },
   "source": [
    "```python\n",
    "def strip_and_lowercase(original):\n",
    "    modified = original.strip().lower()\n",
    "    return modified```"
   ]
  },
  {
   "cell_type": "code",
   "execution_count": 36,
   "metadata": {},
   "outputs": [],
   "source": [
    "def strip_and_lowercase(original):\n",
    "    modified = original.strip().lower()\n",
    "    return modified"
   ]
  },
  {
   "cell_type": "markdown",
   "metadata": {},
   "source": [
    "#### We will use `uggly_string` as the \"argument\" for the `strip_and_lowercase` function. "
   ]
  },
  {
   "cell_type": "markdown",
   "metadata": {
    "collapsed": true
   },
   "source": [
    "```python\n",
    "uggly_string = '  MixED CaSe '\n",
    "```"
   ]
  },
  {
   "cell_type": "code",
   "execution_count": 37,
   "metadata": {},
   "outputs": [],
   "source": [
    "uggly_string = '  MixED CaSe '"
   ]
  },
  {
   "cell_type": "markdown",
   "metadata": {},
   "source": [
    "#### The strip_and_lowercase function \"returns\" a value, \n",
    "> this means that we can store that value in a variable, in this case `pretty`."
   ]
  },
  {
   "cell_type": "markdown",
   "metadata": {
    "collapsed": true
   },
   "source": [
    "```python\n",
    "pretty = strip_and_lowercase(uggly_string)\n",
    "```"
   ]
  },
  {
   "cell_type": "code",
   "execution_count": 38,
   "metadata": {},
   "outputs": [],
   "source": [
    "pretty = strip_and_lowercase(uggly_string)"
   ]
  },
  {
   "cell_type": "markdown",
   "metadata": {},
   "source": [
    "#### Print out the result"
   ]
  },
  {
   "cell_type": "markdown",
   "metadata": {},
   "source": [
    "```python \n",
    "print('original: {}'.format(uggly_string))\n",
    "print('pretty: {}'.format(pretty))```"
   ]
  },
  {
   "cell_type": "code",
   "execution_count": 39,
   "metadata": {},
   "outputs": [
    {
     "name": "stdout",
     "output_type": "stream",
     "text": [
      "original:   MixED CaSe \n",
      "pretty: mixed case\n"
     ]
    }
   ],
   "source": [
    "print('original: {}'.format(uggly_string))\n",
    "print('pretty: {}'.format(uggly_string.strip().lower()))"
   ]
  },
  {
   "cell_type": "markdown",
   "metadata": {},
   "source": [
    "***\n",
    "<br>\n",
    "<center><h1 style = 'color:red'>-----------Quiz-------------</h1></center>\n",
    "<br>"
   ]
  },
  {
   "cell_type": "markdown",
   "metadata": {},
   "source": [
    "## Keyword arguments"
   ]
  },
  {
   "cell_type": "markdown",
   "metadata": {},
   "source": [
    "#### Define function WITH keyword arguments."
   ]
  },
  {
   "cell_type": "markdown",
   "metadata": {},
   "source": [
    "```python\n",
    "def my_fancy_calculation(first, second, third):\n",
    "    return first + second - third \n",
    "```"
   ]
  },
  {
   "cell_type": "code",
   "execution_count": null,
   "metadata": {},
   "outputs": [],
   "source": []
  },
  {
   "cell_type": "markdown",
   "metadata": {},
   "source": [
    "#### CALL the function."
   ]
  },
  {
   "cell_type": "markdown",
   "metadata": {},
   "source": [
    "```python\n",
    "print(my_fancy_calculation(3, 2, 1))\n",
    "print('-----same-----')\n",
    "print(my_fancy_calculation(first = 3, second = 2, third = 1))```"
   ]
  },
  {
   "cell_type": "code",
   "execution_count": null,
   "metadata": {},
   "outputs": [],
   "source": []
  },
  {
   "cell_type": "markdown",
   "metadata": {},
   "source": [
    "#### With keyword arguments you can mix the order"
   ]
  },
  {
   "cell_type": "markdown",
   "metadata": {},
   "source": [
    "```python \n",
    "print(my_fancy_calculation(third=1, first=3, second=2))```"
   ]
  },
  {
   "cell_type": "code",
   "execution_count": null,
   "metadata": {},
   "outputs": [],
   "source": []
  },
  {
   "cell_type": "markdown",
   "metadata": {},
   "source": [
    "#### You can mix NON-keyword arguments AND keyword arguments. \n",
    ">but you have to place non-keyqord arguments first."
   ]
  },
  {
   "cell_type": "markdown",
   "metadata": {},
   "source": [
    "```python\n",
    "print(my_fancy_calculation(3, third=1, second=2))```"
   ]
  },
  {
   "cell_type": "code",
   "execution_count": null,
   "metadata": {},
   "outputs": [],
   "source": []
  },
  {
   "cell_type": "markdown",
   "metadata": {},
   "source": [
    "***\n",
    "<br>\n",
    "<br>"
   ]
  },
  {
   "cell_type": "markdown",
   "metadata": {},
   "source": [
    "## Default arguments"
   ]
  },
  {
   "cell_type": "markdown",
   "metadata": {
    "collapsed": true
   },
   "source": [
    "```python \n",
    "def create_person_info(name, age, job=None, salary=300):\n",
    "    \n",
    "    info = {\"name\": name, \"age\": age, \"salary\": salary}\n",
    "    \n",
    "    # Add 'job' key only if it's provided as parameter\n",
    "    if job:  \n",
    "        info.update({'occupation': job})\n",
    "    return info\n",
    "```"
   ]
  },
  {
   "cell_type": "code",
   "execution_count": null,
   "metadata": {},
   "outputs": [],
   "source": []
  },
  {
   "cell_type": "markdown",
   "metadata": {},
   "source": [
    "#### Use default values for job and salary."
   ]
  },
  {
   "cell_type": "markdown",
   "metadata": {},
   "source": [
    "```python\n",
    "person1 = create_person_info('John Doe', 82)\n",
    "print(person1)```"
   ]
  },
  {
   "cell_type": "code",
   "execution_count": null,
   "metadata": {},
   "outputs": [],
   "source": []
  },
  {
   "cell_type": "markdown",
   "metadata": {},
   "source": [
    "#### Pass in values for each of the parameters."
   ]
  },
  {
   "cell_type": "markdown",
   "metadata": {
    "scrolled": true
   },
   "source": [
    "```python\n",
    "person2 = create_person_info('Lisa Doe', 22, 'hacker', 10000)\n",
    "print(person2)```"
   ]
  },
  {
   "cell_type": "code",
   "execution_count": null,
   "metadata": {},
   "outputs": [],
   "source": []
  },
  {
   "cell_type": "markdown",
   "metadata": {},
   "source": [
    "<br>"
   ]
  },
  {
   "cell_type": "markdown",
   "metadata": {},
   "source": [
    "### Don't use mutable objects as default arguments!"
   ]
  },
  {
   "cell_type": "markdown",
   "metadata": {
    "collapsed": true
   },
   "source": [
    "```python\n",
    "def append_if_multiple_of_five(number, magical_list=[]):\n",
    "    if number % 5 == 0:\n",
    "        magical_list.append(number)\n",
    "    return magical_list\n",
    "\n",
    "print(append_if_multiple_of_five(100))\n",
    "print(append_if_multiple_of_five(105))\n",
    "print(append_if_multiple_of_five(123))\n",
    "print(append_if_multiple_of_five(123, []))\n",
    "print(append_if_multiple_of_five(123))```"
   ]
  },
  {
   "cell_type": "code",
   "execution_count": null,
   "metadata": {},
   "outputs": [],
   "source": []
  },
  {
   "cell_type": "markdown",
   "metadata": {},
   "source": [
    "#### Here's how you can achieve desired behavior:"
   ]
  },
  {
   "cell_type": "markdown",
   "metadata": {
    "collapsed": true
   },
   "source": [
    "```python\n",
    "def append_if_multiple_of_five(number, magical_list=None):\n",
    "    if not magical_list:\n",
    "        magical_list = []\n",
    "    if number % 5 == 0:\n",
    "        magical_list.append(number)\n",
    "    return magical_list\n",
    "\n",
    "print(append_if_multiple_of_five(100))\n",
    "print(append_if_multiple_of_five(105))\n",
    "print(append_if_multiple_of_five(123))\n",
    "print(append_if_multiple_of_five(123, []))\n",
    "print(append_if_multiple_of_five(123))```"
   ]
  },
  {
   "cell_type": "code",
   "execution_count": null,
   "metadata": {},
   "outputs": [],
   "source": []
  },
  {
   "cell_type": "markdown",
   "metadata": {},
   "source": [
    "***\n",
    "<br>\n",
    "<br>"
   ]
  },
  {
   "cell_type": "markdown",
   "metadata": {},
   "source": [
    "## Docstrings\n",
    "> Strings for documenting your functions, methods, modules and variables."
   ]
  },
  {
   "cell_type": "markdown",
   "metadata": {
    "collapsed": true
   },
   "source": [
    "```python\n",
    "def print_sum(val1, val2):\n",
    "\n",
    "    \"\"\"Function which prints the sum of given arguments.\"\"\"\n",
    "    \n",
    "    print('sum: {}'.format(val1 + val2))\n",
    "\n",
    "print(help(print_sum))```"
   ]
  },
  {
   "cell_type": "code",
   "execution_count": null,
   "metadata": {},
   "outputs": [],
   "source": []
  },
  {
   "cell_type": "markdown",
   "metadata": {
    "collapsed": true
   },
   "source": [
    "```python\n",
    "def calculate_sum(val1, val2):\n",
    "    \"\"\"This is a longer docstring defining Arguments and the return value.\n",
    "    Args:\n",
    "        val1: The first parameter.\n",
    "        val2: The second parameter.\n",
    "    Returns:\n",
    "        The sum of val1 and val2.\n",
    "    \"\"\"\n",
    "    return val1 + val2\n",
    "\n",
    "print(help(calculate_sum))```"
   ]
  },
  {
   "cell_type": "code",
   "execution_count": null,
   "metadata": {},
   "outputs": [],
   "source": []
  },
  {
   "cell_type": "markdown",
   "metadata": {},
   "source": [
    "***\n",
    "<br>\n",
    "<br>"
   ]
  },
  {
   "cell_type": "markdown",
   "metadata": {},
   "source": [
    "### The [`pass`](https://docs.python.org/3/reference/simple_stmts.html#the-pass-statement) statement\n",
    "`pass` is a statement which does nothing when it's executed. It can be used e.g. a as placeholder to make the code syntatically correct while sketching the functions and/or classes of your application. For example, the following is valid Python. "
   ]
  },
  {
   "cell_type": "markdown",
   "metadata": {
    "collapsed": true
   },
   "source": [
    "```python\n",
    "def my_function(some_argument):\n",
    "    pass\n",
    "\n",
    "def my_other_function():\n",
    "    pass\n",
    "```"
   ]
  },
  {
   "cell_type": "code",
   "execution_count": 43,
   "metadata": {},
   "outputs": [],
   "source": [
    "mixed_strings = [\n",
    "    \"SaLlY  \",\n",
    "    \"  SAlly  \",\n",
    "    \" SALLY   \",\n",
    "    \" saLLY  \",\n",
    "    \"   sALlY  \",\n",
    "    \" saLLy  \",\n",
    "    \"   SAlly  \",\n",
    "    \"  SALly  \",\n",
    "    \" sAlLy  \",\n",
    "    \"salLy   \",\n",
    "    \"  sAllY   \",\n",
    "    \" SaLlY    \",\n",
    "    \"   SAllY   \",\n",
    "    \" sALlY   \",\n",
    "]"
   ]
  },
  {
   "cell_type": "code",
   "execution_count": 50,
   "metadata": {},
   "outputs": [
    {
     "name": "stdout",
     "output_type": "stream",
     "text": [
      "['SaLlY  ', '  SAlly  ', ' SALLY   ', ' saLLY  ', '   sALlY  ', ' saLLy  ', '   SAlly  ', '  SALly  ', ' sAlLy  ', 'salLy   ', '  sAllY   ', ' SaLlY    ', '   SAllY   ', ' sALlY   ']\n"
     ]
    }
   ],
   "source": [
    "print(mixed_strings)"
   ]
  },
  {
   "cell_type": "code",
   "execution_count": 52,
   "metadata": {},
   "outputs": [],
   "source": [
    "clean_strings = []\n",
    "for sally in mixed_strings:\n",
    "    sally_clean = strip_and_lowercase(sally)\n",
    "    clean_strings.append(sally_clean)"
   ]
  },
  {
   "cell_type": "code",
   "execution_count": 53,
   "metadata": {},
   "outputs": [
    {
     "name": "stdout",
     "output_type": "stream",
     "text": [
      "['sally', 'sally', 'sally', 'sally', 'sally', 'sally', 'sally', 'sally', 'sally', 'sally', 'sally', 'sally', 'sally', 'sally']\n"
     ]
    }
   ],
   "source": [
    "print(clean_strings)"
   ]
  },
  {
   "cell_type": "markdown",
   "metadata": {},
   "source": [
    "***\n",
    "<br>\n",
    "<center><h1 style = 'color:red'>-----------Quiz-------------</h1></center>\n",
    "<br>"
   ]
  }
 ],
 "metadata": {
  "kernelspec": {
   "display_name": "Python 3",
   "language": "python",
   "name": "python3"
  },
  "language_info": {
   "codemirror_mode": {
    "name": "ipython",
    "version": 3
   },
   "file_extension": ".py",
   "mimetype": "text/x-python",
   "name": "python",
   "nbconvert_exporter": "python",
   "pygments_lexer": "ipython3",
   "version": "3.7.1"
  }
 },
 "nbformat": 4,
 "nbformat_minor": 2
}
