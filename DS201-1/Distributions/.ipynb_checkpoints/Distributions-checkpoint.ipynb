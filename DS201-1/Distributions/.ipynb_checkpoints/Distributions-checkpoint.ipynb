{
 "cells": [
  {
   "cell_type": "markdown",
   "metadata": {},
   "source": [
    "# Distributions"
   ]
  },
  {
   "cell_type": "code",
   "execution_count": null,
   "metadata": {},
   "outputs": [],
   "source": [
    "import numpy as np\n",
    "import pandas as pd\n",
    "import matplotlib.pyplot as plt"
   ]
  },
  {
   "cell_type": "code",
   "execution_count": null,
   "metadata": {},
   "outputs": [],
   "source": [
    "%matplotlib inline"
   ]
  },
  {
   "cell_type": "markdown",
   "metadata": {},
   "source": [
    "## Load Seasons Data"
   ]
  },
  {
   "cell_type": "code",
   "execution_count": null,
   "metadata": {},
   "outputs": [],
   "source": [
    "nba = pd.read_csv(\"./data/season_stats.csv\")"
   ]
  },
  {
   "cell_type": "markdown",
   "metadata": {},
   "source": [
    "### Use `value_counts()` to view all unique values in a distribution and their frequencies."
   ]
  },
  {
   "cell_type": "code",
   "execution_count": null,
   "metadata": {},
   "outputs": [],
   "source": [
    "shoot = nba['TS%'].value_counts()\n",
    "shoot.head()"
   ]
  },
  {
   "cell_type": "code",
   "execution_count": null,
   "metadata": {},
   "outputs": [],
   "source": [
    "sorted_shoot = nba['TS%'].value_counts().sort_index()\n",
    "sorted_shoot.head()"
   ]
  },
  {
   "cell_type": "markdown",
   "metadata": {},
   "source": [
    "### Use matplotlib to plot a Histogram to Visualize a Distribution"
   ]
  },
  {
   "cell_type": "code",
   "execution_count": null,
   "metadata": {},
   "outputs": [],
   "source": [
    "plt.hist(nba['TS%'], bins=20)\n",
    "\n",
    "# Make it pretty \n",
    "plt.title(\"True Shooting % Across all NBA Seasons\")\n",
    "plt.xlabel(\"True Shooting Percentage\")\n",
    "plt.ylabel(\"# of Players\")\n",
    "\n",
    "# \"print\" the plot\n",
    "plt.show()"
   ]
  },
  {
   "cell_type": "markdown",
   "metadata": {},
   "source": [
    "### How different is the NBA Now than in 1950?"
   ]
  },
  {
   "cell_type": "code",
   "execution_count": null,
   "metadata": {},
   "outputs": [],
   "source": [
    "first_year = nba['Year'].min()\n",
    "last_year = nba['Year'].max()\n",
    "print(first_year, last_year)"
   ]
  },
  {
   "cell_type": "code",
   "execution_count": null,
   "metadata": {},
   "outputs": [],
   "source": [
    "y_1950 = nba[nba['Year'] == first_year]"
   ]
  },
  {
   "cell_type": "code",
   "execution_count": null,
   "metadata": {},
   "outputs": [],
   "source": [
    "y_2017 = nba[nba['Year'] == last_year]"
   ]
  },
  {
   "cell_type": "code",
   "execution_count": null,
   "metadata": {},
   "outputs": [],
   "source": [
    "plt.hist(y_1950['TS%'], bins=20)\n",
    "\n",
    "# Make it pretty \n",
    "plt.title(\"True Shooting % for 1950 Season\")\n",
    "plt.xlabel(\"True Shooting Percentage\")\n",
    "plt.ylabel(\"# of Players\")\n",
    "\n",
    "# \"print\" the plot\n",
    "plt.show()"
   ]
  },
  {
   "cell_type": "code",
   "execution_count": null,
   "metadata": {},
   "outputs": [],
   "source": [
    "plt.hist(y_2017['TS%'], bins=20)\n",
    "\n",
    "# Make it pretty \n",
    "plt.title(\"True Shooting % for 2017 Season\")\n",
    "plt.xlabel(\"True Shooting Percentage\")\n",
    "plt.ylabel(\"# of Players\")\n",
    "\n",
    "# \"print\" the plot\n",
    "plt.show()"
   ]
  },
  {
   "cell_type": "markdown",
   "metadata": {},
   "source": [
    "Using only the data from the Histograms for both years... What has happened to True Shooting % between 1950 and 2017?"
   ]
  },
  {
   "cell_type": "code",
   "execution_count": null,
   "metadata": {},
   "outputs": [],
   "source": [
    "#short answer"
   ]
  },
  {
   "cell_type": "markdown",
   "metadata": {},
   "source": [
    "## Load Player Data"
   ]
  },
  {
   "cell_type": "code",
   "execution_count": null,
   "metadata": {},
   "outputs": [],
   "source": [
    "players = pd.read_csv('./data/player_data.csv')"
   ]
  },
  {
   "cell_type": "markdown",
   "metadata": {},
   "source": [
    "### Does The College Attended affect performance in NBA?"
   ]
  },
  {
   "cell_type": "code",
   "execution_count": null,
   "metadata": {},
   "outputs": [],
   "source": [
    "top_5_colleges = ['University of Kentucky',\n",
    "                  'Duke Univeristy',\n",
    "                  'University of Kansas',\n",
    "                  'Syracuse University',\n",
    "                  'University of California, Los Angeles',\n",
    "                 ]"
   ]
  },
  {
   "cell_type": "code",
   "execution_count": null,
   "metadata": {},
   "outputs": [],
   "source": [
    "# Check \"college\" column against top_5_colleges\n",
    "in_top_5_colleges = players['college'].isin(top_5_colleges)\n",
    "\n",
    "# print(in_top_5_colleges)"
   ]
  },
  {
   "cell_type": "code",
   "execution_count": null,
   "metadata": {},
   "outputs": [],
   "source": [
    "# index entire players df by \"in_top_5\"\n",
    "players_in_top_5 = players[in_top_5_colleges]['name']"
   ]
  },
  {
   "cell_type": "code",
   "execution_count": null,
   "metadata": {},
   "outputs": [],
   "source": [
    "top_college = nba[nba['Player'].isin(players_in_top_5)]\n",
    "top_college.shape"
   ]
  },
  {
   "cell_type": "code",
   "execution_count": null,
   "metadata": {},
   "outputs": [],
   "source": [
    "bottom_college = nba[~nba['Player'].isin(players_in_top_5)]\n",
    "bottom_college.shape"
   ]
  },
  {
   "cell_type": "markdown",
   "metadata": {},
   "source": [
    "#### Plot the Players not from Top 5"
   ]
  },
  {
   "cell_type": "code",
   "execution_count": null,
   "metadata": {},
   "outputs": [],
   "source": [
    "plt.hist(bottom_college['PER'], bins=50)\n",
    "\n",
    "# Make it pretty \n",
    "plt.title(\"PER for Players NOT from Top 5 Colleges\")\n",
    "plt.xlabel(\"Player Efficiency Rating\")\n",
    "plt.ylabel(\"# of Players\")\n",
    "\n",
    "# \"print\" the plot\n",
    "plt.show()"
   ]
  },
  {
   "cell_type": "markdown",
   "metadata": {},
   "source": [
    "#### Plot the Players from Top 5"
   ]
  },
  {
   "cell_type": "code",
   "execution_count": null,
   "metadata": {},
   "outputs": [],
   "source": [
    "plt.hist(top_college['PER'], bins=50)\n",
    "\n",
    "# Make it pretty \n",
    "plt.title(\"PER for Players FROM Top 5 Colleges\")\n",
    "plt.xlabel(\"Player Efficiency Rating\")\n",
    "plt.ylabel(\"# of Players\")\n",
    "\n",
    "# \"print\" the plot\n",
    "plt.show()"
   ]
  },
  {
   "cell_type": "markdown",
   "metadata": {},
   "source": [
    "What conclusions can we draw about these 2 groups?"
   ]
  },
  {
   "cell_type": "code",
   "execution_count": null,
   "metadata": {},
   "outputs": [],
   "source": [
    "# Short answer"
   ]
  }
 ],
 "metadata": {
  "kernelspec": {
   "display_name": "Python 3",
   "language": "python",
   "name": "python3"
  },
  "language_info": {
   "codemirror_mode": {
    "name": "ipython",
    "version": 3
   },
   "file_extension": ".py",
   "mimetype": "text/x-python",
   "name": "python",
   "nbconvert_exporter": "python",
   "pygments_lexer": "ipython3",
   "version": "3.7.1"
  }
 },
 "nbformat": 4,
 "nbformat_minor": 2
}
