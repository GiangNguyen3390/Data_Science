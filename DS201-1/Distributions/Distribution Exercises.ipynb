{
 "cells": [
  {
   "cell_type": "markdown",
   "metadata": {},
   "source": [
    "# Distributions - Exercise"
   ]
  },
  {
   "cell_type": "code",
   "execution_count": 1,
   "metadata": {},
   "outputs": [],
   "source": [
    "import numpy as np\n",
    "import pandas as pd\n",
    "import matplotlib.pyplot as plt"
   ]
  },
  {
   "cell_type": "code",
   "execution_count": 2,
   "metadata": {},
   "outputs": [],
   "source": [
    "%matplotlib inline"
   ]
  },
  {
   "cell_type": "markdown",
   "metadata": {},
   "source": [
    "## Load Seasons Data"
   ]
  },
  {
   "cell_type": "code",
   "execution_count": 3,
   "metadata": {},
   "outputs": [],
   "source": [
    "nba = pd.read_csv(\"./data/season_stats.csv\")"
   ]
  },
  {
   "cell_type": "markdown",
   "metadata": {},
   "source": [
    "## Did Adding the 3-Point Shot to the Game affect the distribution of Total Points Scored?"
   ]
  },
  {
   "cell_type": "markdown",
   "metadata": {},
   "source": [
    "I went ahead and made the new dataframe for everything before 1979, you make the one for everything after."
   ]
  },
  {
   "cell_type": "code",
   "execution_count": 4,
   "metadata": {},
   "outputs": [],
   "source": [
    "no_three_point = nba[nba['Year'] < 1979]\n",
    "three_point = nba[nba['Year'] >= 1979]"
   ]
  },
  {
   "cell_type": "markdown",
   "metadata": {},
   "source": [
    "### No 3-Pointer in NBA"
   ]
  },
  {
   "cell_type": "markdown",
   "metadata": {},
   "source": [
    "#### Preliminary Exploration"
   ]
  },
  {
   "cell_type": "code",
   "execution_count": 6,
   "metadata": {},
   "outputs": [
    {
     "data": {
      "text/plain": [
       "0.0     42\n",
       "2.0     37\n",
       "4.0     31\n",
       "7.0     24\n",
       "6.0     23\n",
       "8.0     20\n",
       "12.0    18\n",
       "23.0    17\n",
       "5.0     17\n",
       "10.0    15\n",
       "Name: PTS, dtype: int64"
      ]
     },
     "execution_count": 6,
     "metadata": {},
     "output_type": "execute_result"
    }
   ],
   "source": [
    "no_three_point[\"PTS\"].value_counts().head(10)"
   ]
  },
  {
   "cell_type": "markdown",
   "metadata": {},
   "source": [
    "Describe what the `value_counts()` method does."
   ]
  },
  {
   "cell_type": "markdown",
   "metadata": {},
   "source": [
    "show the distribution of PTS values"
   ]
  },
  {
   "cell_type": "markdown",
   "metadata": {},
   "source": [
    "What is represented by the index?"
   ]
  },
  {
   "cell_type": "markdown",
   "metadata": {},
   "source": [
    "is the unique of TS and sorted descending by #players"
   ]
  },
  {
   "cell_type": "markdown",
   "metadata": {},
   "source": [
    "What is represented by the values?"
   ]
  },
  {
   "cell_type": "markdown",
   "metadata": {},
   "source": [
    "the numbers of players for each unique TS value"
   ]
  },
  {
   "cell_type": "markdown",
   "metadata": {},
   "source": [
    "#### Visual Exploration"
   ]
  },
  {
   "cell_type": "code",
   "execution_count": 8,
   "metadata": {},
   "outputs": [
    {
     "data": {
      "image/png": "[encoded data removed]",
      "text/plain": [
       "<Figure size 432x288 with 1 Axes>"
      ]
     },
     "metadata": {
      "needs_background": "light"
     },
     "output_type": "display_data"
    }
   ],
   "source": [
    "# use plt.hist() to plot just the PTS column\n",
    "plt.hist(no_three_point[\"PTS\"], bins=50)\n",
    "\n",
    "# Make this look pretty \n",
    "plt.title(\"True Shooting % - No three point\")\n",
    "plt.xlabel(\"True Shooting Percentage\")\n",
    "plt.ylabel(\"# of Players\")\n",
    "\n",
    "# \"print\" the plot\n",
    "plt.show()"
   ]
  },
  {
   "cell_type": "markdown",
   "metadata": {},
   "source": [
    "#### 3-Pointer in NBA"
   ]
  },
  {
   "cell_type": "code",
   "execution_count": 10,
   "metadata": {},
   "outputs": [
    {
     "data": {
      "image/png": "[encoded data removed]",
      "text/plain": [
       "<Figure size 432x288 with 1 Axes>"
      ]
     },
     "metadata": {
      "needs_background": "light"
     },
     "output_type": "display_data"
    }
   ],
   "source": [
    "# use plt.hist() to plot just the FG column\n",
    "plt.hist(three_point['PTS'], bins=50)\n",
    "\n",
    "# Make this look pretty \n",
    "plt.title(\"True Shooting % - three point\")\n",
    "plt.xlabel(\"True Shooting Percentage\")\n",
    "plt.ylabel(\"# of Players\")\n",
    "\n",
    "# \"print\" the plot\n",
    "plt.show()"
   ]
  },
  {
   "cell_type": "markdown",
   "metadata": {},
   "source": [
    "Using only the data from the Histograms... What can we say about the distribution of Field Goals scored —before and after the 3 point shot was added to the rules?"
   ]
  },
  {
   "cell_type": "code",
   "execution_count": 12,
   "metadata": {},
   "outputs": [
    {
     "data": {
      "text/plain": [
       "count    5353.000000\n",
       "mean      587.684850\n",
       "std       527.324894\n",
       "min         0.000000\n",
       "25%       153.000000\n",
       "50%       461.000000\n",
       "75%       872.000000\n",
       "max      4029.000000\n",
       "Name: PTS, dtype: float64"
      ]
     },
     "execution_count": 12,
     "metadata": {},
     "output_type": "execute_result"
    }
   ],
   "source": [
    "no_three_point[\"PTS\"].describe()\n"
   ]
  },
  {
   "cell_type": "code",
   "execution_count": 13,
   "metadata": {},
   "outputs": [
    {
     "data": {
      "text/plain": [
       "count    19271.000000\n",
       "mean       488.569768\n",
       "std        480.730498\n",
       "min          0.000000\n",
       "25%         95.000000\n",
       "50%        340.000000\n",
       "75%        754.500000\n",
       "max       3041.000000\n",
       "Name: PTS, dtype: float64"
      ]
     },
     "execution_count": 13,
     "metadata": {},
     "output_type": "execute_result"
    }
   ],
   "source": [
    "three_point[\"PTS\"].describe()"
   ]
  }
 ],
 "metadata": {
  "kernelspec": {
   "display_name": "Python 3",
   "language": "python",
   "name": "python3"
  },
  "language_info": {
   "codemirror_mode": {
    "name": "ipython",
    "version": 3
   },
   "file_extension": ".py",
   "mimetype": "text/x-python",
   "name": "python",
   "nbconvert_exporter": "python",
   "pygments_lexer": "ipython3",
   "version": "3.7.1"
  }
 },
 "nbformat": 4,
 "nbformat_minor": 2
}
